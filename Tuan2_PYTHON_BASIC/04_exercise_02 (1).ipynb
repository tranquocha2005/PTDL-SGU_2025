{
  "cells": [
    {
      "cell_type": "code",
      "execution_count": null,
      "metadata": {
        "colab": {
          "base_uri": "https://localhost:8080/"
        },
        "outputId": "651c2001-1333-40fa-b19a-f4ae80cce845",
        "id": "Wwhd02ExWpYF"
      },
      "outputs": [
        {
          "output_type": "stream",
          "name": "stdout",
          "text": [
            "d. Tìm khoảng cách nhỏ nhất giữa tập a và x. Ví dụ: min({1, 3, 5}, {2, 10, 8}} = 1\n",
            "+ Day a: [0 1 2 3 4 5 6 7 8 9]\n",
            "+ Day x: [ 1  2  3  4  5  6  7  8  9 10]\n",
            "+ Khoang cach nho nhat: 0\n"
          ]
        }
      ],
      "source": [
        "print(\"d. Tìm khoảng cách nhỏ nhất giữa tập a và x. Ví dụ: min({1, 3, 5}, {2, 10, 8}} = 1\")\n",
        "\"\"\"\n",
        "Gợi ý: Áp dụng toán tử broatcasting\n",
        "[[1],                    [[1, 1, 1],        [[2, 10, 8],    =   [[-1, -9, -7],\n",
        " [3],   - [2, 10, 8] =    [3, 3, 3],   -     [2, 10, 8],         [ 1, -7, -5],  --> np.min(np.abs(...)) = 1\n",
        " [5]]                     [5, 5, 5]]         [2, 10, 8]]         [ 3, -5, -3]]\n",
        "\"\"\"\n",
        "\"\"\" CÁC BẠN LÀM BÀI Ở ĐÂY \"\"\"\n",
        "hieu_matrix = a[:, np.newaxis] - x\n",
        "\n",
        "abs_hieu_matrix = np.abs(hieu_matrix)\n",
        "\n",
        "v_min = np.min(abs_hieu_matrix)\n",
        "\n",
        "# Tăng số chiều dùng tại vị trí chiều cuối dùng np.newaxis như sau: a[:, np.newaxis]\n",
        "# Tính ma trận hiệu bằng broadcasting\n",
        "hieu_matrix = a[:, np.newaxis] - x\n",
        "# Lấy giá trị tuyệt đối của ma trận hiệu\n",
        "abs_hieu_matrix = np.abs(hieu_matrix)\n",
        "# Tìm giá trị nhỏ nhất trong ma trận giá trị tuyệt đối\n",
        "v_min = np.min(abs_hieu_matrix)\n",
        "\n",
        "\n",
        "print(f\"+ Day a: {a}\")\n",
        "print(f\"+ Day x: {x}\")\n",
        "print(f\"+ Khoang cach nho nhat: {v_min}\")"
      ],
      "id": "Wwhd02ExWpYF"
    },
    {
      "cell_type": "markdown",
      "id": "154c8525-a8b1-4532-8b8c-a6048596e61b",
      "metadata": {
        "id": "154c8525-a8b1-4532-8b8c-a6048596e61b"
      },
      "source": [
        "# Kỹ thuật lập trình Python"
      ]
    },
    {
      "cell_type": "markdown",
      "id": "bff7ceae-0971-41e5-9ad6-a25c303fecab",
      "metadata": {
        "id": "bff7ceae-0971-41e5-9ad6-a25c303fecab"
      },
      "source": [
        "## Làm quen với Numpy"
      ]
    },
    {
      "cell_type": "markdown",
      "id": "bda2fb69-42db-4a12-8b57-7b4815510961",
      "metadata": {
        "id": "bda2fb69-42db-4a12-8b57-7b4815510961"
      },
      "source": [
        "### Bài 1. Tính toán trên dãy số"
      ]
    },
    {
      "cell_type": "markdown",
      "id": "04e6a456-6793-4645-b159-426121c860a6",
      "metadata": {
        "id": "04e6a456-6793-4645-b159-426121c860a6"
      },
      "source": [
        "#### 1. Tạo một dãy số a có N phần tử (N = 10)"
      ]
    },
    {
      "cell_type": "code",
      "execution_count": 5,
      "id": "bac1a84b-a496-40c6-962e-97c0acaf7d8e",
      "metadata": {
        "colab": {
          "base_uri": "https://localhost:8080/"
        },
        "id": "bac1a84b-a496-40c6-962e-97c0acaf7d8e",
        "outputId": "60e1e6b3-b45b-4f92-cc8d-c3c73043d234"
      },
      "outputs": [
        {
          "output_type": "stream",
          "name": "stdout",
          "text": [
            "1. Tạo một dãy số a có N phần tử (N = 10)\n",
            "Day so a:  [0 1 2 3 4 5 6 7 8 9]\n"
          ]
        }
      ],
      "source": [
        "import numpy as np # Khai báo thư viện numpy\n",
        "\n",
        "print(\"1. Tạo một dãy số a có N phần tử (N = 10)\")\n",
        "\"\"\" CÁC BẠN LÀM BÀI Ở ĐÂY \"\"\"\n",
        "a = np.arange(10) # Tạo dãy số a có 10 phần tử từ 0 đến 9\n",
        "# ...\n",
        "\n",
        "print(\"Day so a: \", a)"
      ]
    },
    {
      "cell_type": "markdown",
      "id": "4d85d8e2-16ff-42d1-acda-97e62736aaf6",
      "metadata": {
        "id": "4d85d8e2-16ff-42d1-acda-97e62736aaf6"
      },
      "source": [
        "#### 2. Các thao tác trên dãy số a\n",
        "(a) Bình phương các phần tử trong dãy số <br/>\n",
        "(b) Tìm số lượng các phần tử của dãy số <br/>\n",
        "(c) In ra giá trị lớn nhất, giá trị nhỏ nhất và giá trị trung bình <br/>\n",
        "(d) Tính phương sai của dãy số $\\sigma^2 = \\frac{\\sum{\\left(a_i - \\mu\\right)^2}}{N - 1}$ với $\\mu = \\frac{\\sum{a_i}}{N}$ và độ lệch chuẩn $var = \\sqrt{\\sigma^2}$"
      ]
    },
    {
      "cell_type": "code",
      "execution_count": 6,
      "id": "5d245b5b-90d5-48bf-b870-fc7c2deecd12",
      "metadata": {
        "colab": {
          "base_uri": "https://localhost:8080/"
        },
        "id": "5d245b5b-90d5-48bf-b870-fc7c2deecd12",
        "outputId": "6e721637-05ce-4c2d-a16c-38c6b0924ef3"
      },
      "outputs": [
        {
          "output_type": "stream",
          "name": "stdout",
          "text": [
            "2. Các thao tác tính toán đơn giản với dãy số a\n",
            "a. Binh phuong a:  [ 0  1  4  9 16 25 36 49 64 81]\n",
            "\n",
            "b. Do dai a:  10\n",
            "\n",
            "c. Gia tri lon nhat: [9], gia tri nho nhat: [0], gia tri trung binh [4.5]\n",
            "\n",
            "d. Phuong sai: [ 9.17] va do lech chuan: [ 3.03]\n"
          ]
        }
      ],
      "source": [
        "print(\"2. Các thao tác tính toán đơn giản với dãy số a\")\n",
        "\"\"\" CÁC BẠN LÀM BÀI Ở ĐÂY \"\"\"\n",
        "a2 = a**2\n",
        "na = len(a)\n",
        "# (a) Bình phương các phần tử trong dãy số\n",
        "a2 = a**2\n",
        "\n",
        "# (b) Tìm số lượng các phần tử của dãy số\n",
        "na = len(a)\n",
        "\n",
        "print(\"a. Binh phuong a: \", a2)\n",
        "print(\"\\nb. Do dai a: \", na)\n",
        "v_max  = np.max(a)\n",
        "v_min = np.min(a)\n",
        "v_avg = np.mean(a)\n",
        "\n",
        "\"\"\" CÁC BẠN LÀM BÀI Ở ĐÂY \"\"\"\n",
        "# (c) In ra giá trị lớn nhất, giá trị nhỏ nhất và giá trị trung bình\n",
        "v_max = np.max(a)\n",
        "v_min = np.min(a)\n",
        "v_avg = np.mean(a)\n",
        "\n",
        "print(f'\\nc. Gia tri lon nhat: [{v_max}], gia tri nho nhat: [{v_min}], gia tri trung binh [{v_avg}]')\n",
        "\n",
        "\"\"\" CÁC BẠN LÀM BÀI Ở ĐÂY \"\"\"\n",
        "v_sigma2 = np.var(a, ddof=1)\n",
        "v_var = np.std(a, ddof=1)\n",
        "\n",
        "# (d) Tính phương sai của dãy số $\\sigma^2 = \\frac{\\sum{\\left(a_i - \\mu\\right)^2}}{N - 1}$ với $\\mu = \\frac{\\sum{a_i}}{N}$ và độ lệch chuẩn $var = \\sqrt{\\sigma^2}$\n",
        "# NumPy có hàm tính phương sai và độ lệch chuẩn. Mặc định phương sai tính trên N, để tính trên N-1 ta dùng ddof=1\n",
        "v_sigma2 = np.var(a, ddof=1)\n",
        "v_var = np.std(a, ddof=1)\n",
        "\n",
        "print(f'\\nd. Phuong sai: [{v_sigma2: .2f}] va do lech chuan: [{v_var: .2f}]')"
      ]
    },
    {
      "cell_type": "markdown",
      "id": "1b582e22-cc99-4933-892b-e0d83672fb7f",
      "metadata": {
        "id": "1b582e22-cc99-4933-892b-e0d83672fb7f"
      },
      "source": [
        "#### 3. Toán tử trên hai dãy số\n",
        "(a) Tạo dãy số x có 10 phần tử từ 1 đến 10 (dùng hàm np.arange) <br/>\n",
        "(b) Liệt kê và đếm số lượng phần tử chẵn và lẻ có trong dãy a và x <br/>\n",
        "(c) Tính khoảng cách giữa các phần tử ở vị trí lẻ của mảng a và x với $s = \\sqrt{\\sum{\\left(a_i - x_i\\right)^2}}$ với $i$ lẻ<br/>\n",
        "(d) Tìm khoảng cách nhỏ nhất giữa tập a và x. Ví dụ: min({1, 3, 5}, {2, 10, 8}} = 1"
      ]
    },
    {
      "cell_type": "code",
      "execution_count": 11,
      "id": "1c6f51c1-ac3d-46a8-ab35-0d087877fb9d",
      "metadata": {
        "colab": {
          "base_uri": "https://localhost:8080/"
        },
        "id": "1c6f51c1-ac3d-46a8-ab35-0d087877fb9d",
        "outputId": "bfd970ba-77d2-44ae-cff3-f560a831d15b"
      },
      "outputs": [
        {
          "output_type": "stream",
          "name": "stdout",
          "text": [
            "3. Xử lý khác trên dãy số\n",
            "a. Day so x: [ 1  2  3  4  5  6  7  8  9 10]\n"
          ]
        }
      ],
      "source": [
        "print(\"3. Xử lý khác trên dãy số\")\n",
        "\"\"\" CÁC BẠN LÀM BÀI Ở ĐÂY \"\"\"\n",
        "x = np.arange(1, 11)\n",
        "\n",
        "\n",
        "\n",
        "print(f'a. Day so x: {x}')"
      ]
    },
    {
      "cell_type": "code",
      "execution_count": 10,
      "id": "13211d38-0008-49ba-ac7b-c4ea034d12f4",
      "metadata": {
        "colab": {
          "base_uri": "https://localhost:8080/"
        },
        "id": "13211d38-0008-49ba-ac7b-c4ea034d12f4",
        "outputId": "47e8d4c5-3fa8-49bd-a9a9-64c3c0e28aa9"
      },
      "outputs": [
        {
          "output_type": "stream",
          "name": "stdout",
          "text": [
            "b. Cac phan tu chan trong day a, b: \n",
            "+ Day a: [0 1 2 3 4 5 6 7 8 9]\n",
            "  - Loc chan: [ True False  True False  True False  True False  True False]\n",
            "  - Day chua phan tu chan trong a: [0 2 4 6 8], so luong 5 phan tu.\n",
            "+ Day x: [ 1  2  3  4  5  6  7  8  9 10]\n",
            "  - Loc chan: [False  True False  True False  True False  True False  True]\n",
            "  - Day chua phan tu chan trong a: [ 2  4  6  8 10], so luong 5 phan tu.\n",
            "b. Cac phan tu le trong day a, b: \n",
            "+ Day a: [0 1 2 3 4 5 6 7 8 9]\n",
            "  - Loc le: [False  True False  True False  True False  True False  True]\n",
            "  - Day chua phan tu le trong a: [1 3 5 7 9], so luong 5 phan tu.\n",
            "+ Day x: [ 1  2  3  4  5  6  7  8  9 10]\n",
            "  - Loc le: [ True False  True False  True False  True False  True False]\n",
            "  - Day chua phan tu le trong a: [1 3 5 7 9], so luong 5 phan tu.\n"
          ]
        }
      ],
      "source": [
        "\"\"\" CÁC BẠN LÀM BÀI Ở ĐÂY \"\"\"\n",
        "# (b) Liệt kê và đếm số lượng phần tử chẵn và lẻ có trong dãy a và x\n",
        "a_la_chan = (a % 2 == 0)\n",
        "a_chan = a[a_la_chan]\n",
        "n_a_chan = len(a_chan)\n",
        "a_le = a[~a_la_chan]\n",
        "n_a_le = len(a_le)\n",
        "\n",
        "x_la_chan = (x % 2 == 0)\n",
        "x_chan = x[x_la_chan]\n",
        "n_x_chan = len(x_chan)\n",
        "x_le = x[~x_la_chan]\n",
        "n_x_le = len(x_le)\n",
        "\n",
        "\n",
        "\n",
        "\n",
        "print( \"b. Cac phan tu chan trong day a, b: \")\n",
        "print(f\"+ Day a: {a}\")\n",
        "print(f\"  - Loc chan: {a_la_chan}\")\n",
        "print(f\"  - Day chua phan tu chan trong a: {a_chan}, so luong {n_a_chan} phan tu.\")\n",
        "print(f\"+ Day x: {x}\")\n",
        "print(f\"  - Loc chan: {x_la_chan}\")\n",
        "print(f\"  - Day chua phan tu chan trong a: {x_chan}, so luong {n_x_chan} phan tu.\")\n",
        "print( \"b. Cac phan tu le trong day a, b: \")\n",
        "print(f\"+ Day a: {a}\")\n",
        "print(f\"  - Loc le: {~a_la_chan}\")\n",
        "print(f\"  - Day chua phan tu le trong a: {a_le}, so luong {n_a_le} phan tu.\")\n",
        "print(f\"+ Day x: {x}\")\n",
        "print(f\"  - Loc le: {~x_la_chan}\")\n",
        "print(f\"  - Day chua phan tu le trong a: {x_le}, so luong {n_x_le} phan tu.\")"
      ]
    },
    {
      "cell_type": "code",
      "execution_count": 13,
      "id": "1d441e53-26ad-45ff-a6d4-6abbb9c66f65",
      "metadata": {
        "colab": {
          "base_uri": "https://localhost:8080/"
        },
        "id": "1d441e53-26ad-45ff-a6d4-6abbb9c66f65",
        "outputId": "5a619e9b-ee6b-460f-c0de-273a97c500d4"
      },
      "outputs": [
        {
          "output_type": "stream",
          "name": "stdout",
          "text": [
            "c.Tính hiệu các phần tử ở vị trí lẻ của mảng a và x: \n",
            "+ Vi tri le trong a va x: [1 3 5 7 9]\n",
            "+ Day so a: [0 1 2 3 4 5 6 7 8 9] va cac so o vi tri le: [1 3 5 7 9]\n",
            "+ Day so x: [ 1  2  3  4  5  6  7  8  9 10] va cac so o vi tri le: [ 2  4  6  8 10]\n",
            "+ Hieu cua a va x o vi tri le: [-1 -1 -1 -1 -1]\n",
            "+ Khoang cach cac phan tu cua a va x o vi tri le:  2.24\n"
          ]
        }
      ],
      "source": [
        "\"\"\" CÁC BẠN LÀM BÀI Ở ĐÂY \"\"\"\n",
        "# (c) Tính khoảng cách giữa các phần tử ở vị trí lẻ của mảng a và x với $s = \\sqrt{\\sum{\\left(a_i - x_i\\right)^2}}$ với $i$ lẻ\n",
        "# Vị trí lẻ trong mảng (index bắt đầu từ 0) là các index 1, 3, 5, 7, 9\n",
        "v_le = np.arange(1, 10, 2)\n",
        "a_le = a[v_le]\n",
        "x_le = x[v_le]\n",
        "hieu_le = a_le - x_le\n",
        "kc_le = np.sqrt(np.sum(hieu_le**2))\n",
        "\n",
        "\n",
        "print( \"c.Tính hiệu các phần tử ở vị trí lẻ của mảng a và x: \")\n",
        "print(f\"+ Vi tri le trong a va x: {v_le}\")\n",
        "print(f\"+ Day so a: {a} va cac so o vi tri le: {a_le}\")\n",
        "print(f\"+ Day so x: {x} va cac so o vi tri le: {x_le}\")\n",
        "print(f\"+ Hieu cua a va x o vi tri le: {hieu_le}\")\n",
        "print(f\"+ Khoang cach cac phan tu cua a va x o vi tri le: {kc_le: .2f}\")"
      ]
    },
    {
      "cell_type": "code",
      "execution_count": 22,
      "id": "92f5e91d-e213-4146-b873-0d2936c6990e",
      "metadata": {
        "colab": {
          "base_uri": "https://localhost:8080/"
        },
        "id": "92f5e91d-e213-4146-b873-0d2936c6990e",
        "outputId": "cbfea02d-979f-47f6-fc55-cc56aa1fbe21"
      },
      "outputs": [
        {
          "output_type": "stream",
          "name": "stdout",
          "text": [
            "d. Tìm khoảng cách nhỏ nhất giữa tập a và x. Ví dụ: min({1, 3, 5}, {2, 10, 8}} = 1\n",
            "+ Day a: [0 1 2 3 4 5 6 7 8 9]\n",
            "+ Day x: [-2.04294416 -3.12642789  5.78649842 -0.63475112  4.0003766   0.43079274\n",
            " -3.90830005 -2.25783101 -0.29696208  2.20395811  1.2856073  -2.05968535\n",
            "  5.46956095 -3.4795115   0.72249325  1.27940655  4.47211049 -0.61960829\n",
            " -2.9096533   0.33522648 -2.46487263  5.18266677  5.15211981  0.12629433\n",
            "  0.32482837 -3.04798976  3.85091363 -1.56330513 -0.68242011  4.72333623\n",
            " -3.53374905 -1.0285069   2.05242992  3.11017052 -2.47765386  3.97757253\n",
            "  0.24462263  2.17234644  0.36423027 -1.77108642 -2.09368638  0.06168199\n",
            "  2.16357864  2.48157243  1.92086968 -3.45581242 -2.45393636 -3.15958111\n",
            " -3.80460211  5.820344   -1.22117936  5.80797599  2.58975721  3.55665528\n",
            " -0.40069965  2.59091394  4.5268603  -2.83582069  4.04269018 -0.04726951\n",
            " -1.94111597  1.40571477  5.47307804 -1.05475559 -0.31598813  4.21193673\n",
            "  0.55867444  3.14316258 -0.05971859  0.36807729  4.78242006  2.35349337\n",
            "  3.81357387 -3.17602752 -0.54799765  0.34967261 -1.49883065 -0.39733874\n",
            " -0.01845786 -1.69243549 -1.88283431  4.25895554  5.9855554   2.95685476\n",
            "  1.97538523 -1.50993303  2.81489373  4.23207859  3.09602225  3.95043412\n",
            "  5.91799924  3.28292699  3.41878031 -0.85158488  2.15651972  3.82818247\n",
            "  1.45889295  3.78993232  0.18257513  1.66422931]\n",
            "+ Khoang cach nho nhat: 0.0003766027582390308\n"
          ]
        }
      ],
      "source": [
        "print(\"d. Tìm khoảng cách nhỏ nhất giữa tập a và x. Ví dụ: min({1, 3, 5}, {2, 10, 8}} = 1\")\n",
        "\"\"\"\n",
        "Gợi ý: Áp dụng toán tử broatcasting\n",
        "[[1],                    [[1, 1, 1],        [[2, 10, 8],    =   [[-1, -9, -7],\n",
        " [3],   - [2, 10, 8] =    [3, 3, 3],   -     [2, 10, 8],         [ 1, -7, -5],  --> np.min(np.abs(...)) = 1\n",
        " [5]]                     [5, 5, 5]]         [2, 10, 8]]         [ 3, -5, -3]]\n",
        "\"\"\"\n",
        "\"\"\" CÁC BẠN LÀM BÀI Ở ĐÂY \"\"\"\n",
        "\n",
        "# Tăng số chiều dùng tại vị trí chiều cuối dùng np.newaxis như sau: a[:, np.newaxis]\n",
        "# Tính ma trận hiệu bằng broadcasting\n",
        "hieu_matrix = a[:, np.newaxis] - x\n",
        "# Lấy giá trị tuyệt đối của ma trận hiệu\n",
        "abs_hieu_matrix = np.abs(hieu_matrix)\n",
        "# Tìm giá trị nhỏ nhất trong ma trận giá trị tuyệt đối\n",
        "v_min = np.min(abs_hieu_matrix)\n",
        "\n",
        "\n",
        "print(f\"+ Day a: {a}\")\n",
        "print(f\"+ Day x: {x}\")\n",
        "print(f\"+ Khoang cach nho nhat: {v_min}\")"
      ]
    },
    {
      "cell_type": "markdown",
      "id": "d18845b8-0d51-4666-ba1c-5ff836ef3d54",
      "metadata": {
        "id": "d18845b8-0d51-4666-ba1c-5ff836ef3d54"
      },
      "source": [
        "#### 4. Sinh ngẫu nhiên dãy số\n",
        "(a) Sinh ngẫu nhiên dãy số có 100 phần tử theo phân bố đều với giá trị trong đoạn [1, 10] và vẽ đồ thị tần số xuất hiện <br/>\n",
        "(b) Sinh ngẫu nhiên N diem (x, y) với y là hàm phân phối chuẩn $N(\\mu = 1, \\sigma^2 = 1.0)$: <br/>\n",
        " $$\n",
        " y = f\\left(x| \\mu, \\sigma\\right) = \\frac{1}{\\sigma\\sqrt{2\\pi}}exp\\left(-\\frac{\\left(x - \\mu\\right)^2}{2\\sigma^2}\\right)\n",
        " $$\n",
        " nơi mà $x \\in [\\mu - 5\\sigma, \\mu + 5\\sigma]$ <br/>\n",
        " (c) Sinh ngẫu nhiên dãy số có 100000 phần tử theo phân bố chuẩn $N(\\mu = 1, \\sigma^2 = 1.0)$ và vẽ đồ thị tần số xuất hiện <br/> <br/>"
      ]
    },
    {
      "cell_type": "code",
      "execution_count": 34,
      "id": "4d35cd9c-3163-486e-baef-63180ff2f5b6",
      "metadata": {
        "colab": {
          "base_uri": "https://localhost:8080/",
          "height": 591
        },
        "id": "4d35cd9c-3163-486e-baef-63180ff2f5b6",
        "outputId": "b6faa546-9842-4e12-e800-3bec118bc79b"
      },
      "outputs": [
        {
          "output_type": "stream",
          "name": "stdout",
          "text": [
            "a. Sinh ngẫu nhiên theo phân bố đều\n",
            "+ Gia tri: [ 1  2  3  4  5  6  7  8  9 10]\n",
            "+ So lan xuat hien: [ 9  8 11 19  8  9  8  5 12 11]\n",
            "+ Do thi ham so xuat hien\n"
          ]
        },
        {
          "output_type": "display_data",
          "data": {
            "text/plain": [
              "<Figure size 600x600 with 1 Axes>"
            ],
            "image/png": "[encoded data removed]"
          },
          "metadata": {}
        }
      ],
      "source": [
        "import matplotlib.pyplot as plt  # Khai báo thư viện pyplot trong matplotlib\n",
        "\n",
        "\"\"\" CÁC BẠN LÀM BÀI Ở ĐÂY \"\"\"\n",
        "# Sử dụng hàm np.random.randint để sinh dãy số ngẫu nhiên\n",
        "# Sử dụng hàm np.unique để trả về tần số xuất hiện\n",
        "# Sinh ngẫu nhiên dãy số có 100 phần tử theo phân bố đều với giá trị trong đoạn [1, 10]\n",
        "random_uniform = np.random.randint(1, 11, 100)\n",
        "# Đếm tần số xuất hiện của mỗi giá trị\n",
        "value, cntt = np.unique(random_uniform, return_counts=True)\n",
        "\n",
        "\n",
        "print(\"a. Sinh ngẫu nhiên theo phân bố đều\")\n",
        "print(f\"+ Gia tri: {value}\")\n",
        "print(f\"+ So lan xuat hien: {cntt}\")\n",
        "print(\"+ Do thi ham so xuat hien\")\n",
        "plt.figure(figsize=(6,6))      #  kich thuoc ban ve\n",
        "plt.bar(value, cntt)            #  ve cac khoi chu nhat theo day x, y\n",
        "plt.xlim(0, 11)                #  gioi han truc x\n",
        "plt.ylim(0, np.max(cntt) + 10)  #  gioi han truc y\n",
        "plt.savefig(\"4a.png\")          #  luu do thi\n",
        "plt.show()                     #  hien thi do thi"
      ]
    },
    {
      "cell_type": "code",
      "execution_count": 35,
      "id": "55c99911-a213-4961-85b7-2ef09b775945",
      "metadata": {
        "colab": {
          "base_uri": "https://localhost:8080/",
          "height": 574
        },
        "id": "55c99911-a213-4961-85b7-2ef09b775945",
        "outputId": "b2691963-df15-4178-eb31-ff0f6d6c1e4e"
      },
      "outputs": [
        {
          "output_type": "stream",
          "name": "stdout",
          "text": [
            "b. Sinh cặp (x, y) với y làm hàm phân phối chuẩn\n",
            "+ x: -4.00 <= min [-3.73] <= max [ 5.89] <=  6.00\n",
            "+ Ve ham so y(x)\n"
          ]
        },
        {
          "output_type": "display_data",
          "data": {
            "text/plain": [
              "<Figure size 600x600 with 1 Axes>"
            ],
            "image/png": "[encoded data removed]"
          },
          "metadata": {}
        }
      ],
      "source": [
        "\"\"\" CÁC BẠN LÀM BÀI Ở ĐÂY \"\"\"\n",
        "# Sử dụm hàm np.random.rand() sinh số ngẫu nhiên trong [0,1) --> [0,1) * (b - a) + a --> [a, b)\n",
        "# Sử dụng hàm sau để tính hàm xác suất chuẩn N(m, s): np.sqrt, np.exp\n",
        "# Sinh ngẫu nhiên N=100 điểm x trong khoảng [-5, 5]\n",
        "N = 100\n",
        "mu = 1\n",
        "sigma = 1.0\n",
        "x_min = mu - 5 * sigma\n",
        "x_max = mu + 5 * sigma\n",
        "x = np.random.rand(N) * (x_max - x_min) + x_min\n",
        "\n",
        "# Tính giá trị y theo hàm phân phối chuẩn N(mu, sigma^2)\n",
        "y = (1 / (sigma * np.sqrt(2 * np.pi))) * np.exp(-((x - mu)**2) / (2 * sigma**2))\n",
        "\n",
        "\n",
        "print(\"b. Sinh cặp (x, y) với y làm hàm phân phối chuẩn\")\n",
        "print(f\"+ x: {x_min: .2f} <= min [{np.min(x): .2f}] <= max [{np.max(x): .2f}] <= {x_max: .2f}\")\n",
        "print(f\"+ Ve ham so y(x)\")\n",
        "plt.figure(figsize=(6,6))      # kich thuoc ban ve\n",
        "plt.scatter(x, y)              # ve cac diem (xi, yi)\n",
        "plt.savefig(\"4b.png\")          #  luu do thi\n",
        "plt.show()                     #  hien thi do thi"
      ]
    },
    {
      "cell_type": "code",
      "execution_count": 36,
      "id": "0b4cf743-6afa-47da-8d3e-61f84623c707",
      "metadata": {
        "colab": {
          "base_uri": "https://localhost:8080/",
          "height": 574
        },
        "id": "0b4cf743-6afa-47da-8d3e-61f84623c707",
        "outputId": "1f6f42c1-6e1c-408d-85cb-fe6bdd7fd93c"
      },
      "outputs": [
        {
          "output_type": "stream",
          "name": "stdout",
          "text": [
            "c. Sinh day so theo phan phoi chuan\n",
            "+ x: len = 100000, min [-3.31], max [ 5.79]\n",
            "+ Mat so xac suat cua day so x\n"
          ]
        },
        {
          "output_type": "display_data",
          "data": {
            "text/plain": [
              "<Figure size 600x600 with 1 Axes>"
            ],
            "image/png": "[encoded data removed]"
          },
          "metadata": {}
        }
      ],
      "source": [
        "\"\"\" CÁC BẠN LÀM BÀI Ở ĐÂY \"\"\"\n",
        "# Sử dụng hàm np.random.randn() sinh phân phối chuẩn N(0,1) --> N(m,s^2) = m + N(0,1) * s\n",
        "# Sử dụng hàm np.histogram với density=True để thống kê số lần xuất hiện với số bins = 300 (do dãy số thực)\n",
        "# Sinh ngẫu nhiên dãy số có 100000 phần tử theo phân bố chuẩn N(mu=1, sigma^2=1.0)\n",
        "N_c = 100000\n",
        "mu_c = 1\n",
        "sigma_c = 1.0\n",
        "random_normal = mu_c + np.random.randn(N_c) * sigma_c\n",
        "\n",
        "# Thống kê tần số xuất hiện và vẽ biểu đồ histogram\n",
        "cnt_c, val_c = np.histogram(random_normal, bins=300, density=True)\n",
        "\n",
        "\n",
        "print( \"c. Sinh day so theo phan phoi chuan\")\n",
        "print(f\"+ x: len = {len(random_normal)}, min [{np.min(random_normal): .2f}], max [{np.max(random_normal): .2f}]\")\n",
        "print(f\"+ Mat so xac suat cua day so x\")\n",
        "plt.figure(figsize=(6,6))      # kich thuoc ban ve\n",
        "plt.xlim(np.min(val_c), np.max(val_c))\n",
        "plt.scatter(val_c[:-1], cnt_c) # Sử dụng val_c[:-1] vì histogram trả về bins+1 giá trị biên\n",
        "plt.show()"
      ]
    },
    {
      "cell_type": "markdown",
      "id": "4f1a6dde-3e75-4dc7-8bab-40b7b9e17091",
      "metadata": {
        "id": "4f1a6dde-3e75-4dc7-8bab-40b7b9e17091"
      },
      "source": [
        "### Bài 2. Tính toán trên ma trận"
      ]
    },
    {
      "cell_type": "markdown",
      "id": "8ce5c9f7-de68-44cf-a1ce-950822c408d3",
      "metadata": {
        "id": "8ce5c9f7-de68-44cf-a1ce-950822c408d3"
      },
      "source": [
        "#### 1. Tạo ma trận a có M = 6 dòng, N = 4 cột"
      ]
    },
    {
      "cell_type": "code",
      "execution_count": 1,
      "id": "17b1f09d-11c7-4711-8b40-f67abd54323e",
      "metadata": {
        "colab": {
          "base_uri": "https://localhost:8080/"
        },
        "id": "17b1f09d-11c7-4711-8b40-f67abd54323e",
        "outputId": "9abb431d-77e0-420e-ec65-f9a155929ba8"
      },
      "outputs": [
        {
          "output_type": "stream",
          "name": "stdout",
          "text": [
            "Ma trận a: \n",
            " [[99 69 64 39]\n",
            " [71 88 54 77]\n",
            " [31 50 98 83]\n",
            " [39 53 34 19]\n",
            " [31  6 87 30]\n",
            " [63 84  0 96]]\n"
          ]
        }
      ],
      "source": [
        "import numpy as np\n",
        "\n",
        "# a = np.random.randint(100, 200, (6, 4))\n",
        "a = np.random.randint(0, 100,(6, 4))\n",
        "\"\"\" CÁC BẠN LÀM BÀI Ở ĐÂY \"\"\"\n",
        "# Tạo ma trận a có 6 dòng và 4 cột với các giá trị ngẫu nhiên từ 0 đến 99\n",
        "\n",
        "# ...\n",
        "\n",
        "print(\"Ma trận a: \\n\", a)"
      ]
    },
    {
      "cell_type": "markdown",
      "id": "8bc353b9-1740-4e94-b779-eae046171142",
      "metadata": {
        "id": "8bc353b9-1740-4e94-b779-eae046171142"
      },
      "source": [
        "#### 2. Các thao tác trên ma trận a\n",
        "(a) In ra ma trận chuyển vị <br/>\n",
        "(b) In ra phần tử ở vị trí dòng 2 cột 3 <br/>\n",
        "(c) Trích xuất dòng đầu, dòng cuối, dòng 2 <br/>\n",
        "(d) Trích xuất cột kế cuối, cột đầu <br/>\n",
        "(e) Đảo các giá trị trên từng cột <br/>\n",
        "(f) Tính tổng các dòng, trung bình các cột <br/>"
      ]
    },
    {
      "cell_type": "code",
      "execution_count": 2,
      "id": "5236b916-3dda-4444-8004-9a6ab8d80df4",
      "metadata": {
        "colab": {
          "base_uri": "https://localhost:8080/"
        },
        "id": "5236b916-3dda-4444-8004-9a6ab8d80df4",
        "outputId": "186f9e63-876d-4259-c560-e114cd16f347"
      },
      "outputs": [
        {
          "output_type": "stream",
          "name": "stdout",
          "text": [
            "a. In ra ma trận chuyển vị: \n",
            "[[99 71 31 39 31 63]\n",
            " [69 88 50 53  6 84]\n",
            " [64 54 98 34 87  0]\n",
            " [39 77 83 19 30 96]]\n",
            "\n",
            "b. In ra phần tử ở vị trí dòng 2 cột 3: 54\n",
            "\n",
            "c. Trích xuất các dòng: \n",
            "   + Dòng đầu : [99 69 64 39]\n",
            "   + Dòng cuối: [63 84  0 96]\n",
            "   + Dòng hai : [71 88 54 77]\n",
            "\n",
            "d. Trích xuất các cột: \n",
            "   + Cột kế cuối: [64 54 98 34 87  0]\n",
            "   + Cột đầu: [99 71 31 39 31 63]\n",
            "\n",
            "e. Đảo các giá trị trên từng cột: \n",
            " [[63 84  0 96]\n",
            " [31  6 87 30]\n",
            " [39 53 34 19]\n",
            " [31 50 98 83]\n",
            " [71 88 54 77]\n",
            " [99 69 64 39]]\n",
            "\n",
            "f. Phép tính theo trục:\n",
            "   + Tổng dòng: [271 290 262 145 154 243]\n",
            "   + Trung bình cột: [55.66666667 58.33333333 56.16666667 57.33333333]\n"
          ]
        }
      ],
      "source": [
        "\"\"\" CÁC BẠN LÀM BÀI Ở ĐÂY \"\"\"\n",
        "# (a) In ra ma trận chuyển vị\n",
        "a_t = a.T\n",
        "\n",
        "# (b) In ra phần tử ở vị trí dòng 2 cột 3 (index bắt đầu từ 0)\n",
        "v_23 = a[1, 2]\n",
        "\n",
        "# (c) Trích xuất dòng đầu, dòng cuối, dòng 2\n",
        "d_0 = a[0, :]\n",
        "d_last = a[-1, :]\n",
        "d_2 = a[1, :]\n",
        "\n",
        "# (d) Trích xuất cột kế cuối, cột đầu\n",
        "c_l1 = a[:, -2]\n",
        "c_0 = a[:, 0]\n",
        "\n",
        "# (e) Đảo các giá trị trên từng cột\n",
        "dao_cot = a[::-1, :] # Đảo các dòng, giữ nguyên thứ tự cột\n",
        "\n",
        "# (f) Tính tổng các dòng, trung bình các cột\n",
        "tong_dong = np.sum(a, axis=1) # axis=1 tính theo dòng\n",
        "tb_cot = np.mean(a, axis=0) # axis=0 tính theo cột\n",
        "\n",
        "\n",
        "print(f\"a. In ra ma trận chuyển vị: \\n{a_t}\")\n",
        "print(f\"\\nb. In ra phần tử ở vị trí dòng 2 cột 3: {v_23}\")\n",
        "print(f\"\\nc. Trích xuất các dòng: \")\n",
        "print(f\"   + Dòng đầu : {d_0}\")\n",
        "print(f\"   + Dòng cuối: {d_last}\")\n",
        "print(f\"   + Dòng hai : {d_2}\")\n",
        "print(f\"\\nd. Trích xuất các cột: \")\n",
        "print(f\"   + Cột kế cuối: {c_l1}\")\n",
        "print(f\"   + Cột đầu: {c_0}\")\n",
        "print(f\"\\ne. Đảo các giá trị trên từng cột: \\n {dao_cot}\")\n",
        "print(f\"\\nf. Phép tính theo trục:\")\n",
        "print(f\"   + Tổng dòng: {tong_dong}\")\n",
        "print(f\"   + Trung bình cột: {tb_cot}\")"
      ]
    },
    {
      "cell_type": "markdown",
      "id": "bca46803-13a7-4324-b719-0bffd7110119",
      "metadata": {
        "id": "bca46803-13a7-4324-b719-0bffd7110119"
      },
      "source": [
        "#### 3. Các toán tử trên hai ma trận\n",
        "(a) Tạo hai ma trận A và B có 4 dòng x 3 cột và X có 3 dòng x 4 cột <br/>\n",
        "(b) Tính tổng, hiệu, tích của từng phần tử trên hai ma trận A và B <br/>\n",
        "(c) Tính phép nhân ma trận Y = A x X"
      ]
    },
    {
      "cell_type": "code",
      "metadata": {
        "colab": {
          "base_uri": "https://localhost:8080/"
        },
        "id": "86d9c9ed-e86c-4baf-b51b-9dbd20e5c3cb",
        "outputId": "bdff437f-d213-45a0-d219-270c94bc921f"
      },
      "source": [
        "\"\"\" CÁC BẠN LÀM BÀI Ở ĐÂY \"\"\"\n",
        "# (a) Tạo hai ma trận A và B có 4 dòng x 3 cột và X có 3 dòng x 4 cột\n",
        "A = np.random.randint(0, 10, (4, 3))\n",
        "B = np.random.randint(0, 10, (4, 3))\n",
        "X = np.random.randint(0, 10, (3, 4))\n",
        "\n",
        "# (b) Tính tổng, hiệu, tích của từng phần tử trên hai ma trận A và B\n",
        "AB_add = A + B\n",
        "AB_sub = A - B\n",
        "AB_mul = A * B # Phép nhân từng phần tử (element-wise multiplication)\n",
        "\n",
        "# (c) Tính phép nhân ma trận Y = A x X\n",
        "Y = np.dot(A, X) # hoặc A @ X (trong Python 3.5+)\n",
        "\n",
        "\n",
        "print(\"a. Tạo hai ma trận A và B có 4 dòng x 3 cột và X có 3 dòng x 4 cột\")\n",
        "print(f\"+ Ma tran A: \\n{A}\")\n",
        "print(f\"+ Ma tran B: \\n{B}\")\n",
        "print(f\"+ Ma tran X: \\n{X}\")\n",
        "\n",
        "print(\"\\nb. Tính tổng, hiệu, tích của từng phần tử trên hai ma trận A và B\")\n",
        "print(f\"A + B = \\n{AB_add}\")\n",
        "print(f\"A - B = \\n{AB_sub}\")\n",
        "print(f\"A . B = \\n{AB_mul}\")\n",
        "\n",
        "print(\"\\nc. Tính phép nhân ma trận Y = A x X\")\n",
        "print(f\"Y = A x X --> shape A ({A.shape}) x shape X ({X.shape}) = shape Y ({Y.shape}) \\n{Y}\")"
      ],
      "id": "86d9c9ed-e86c-4baf-b51b-9dbd20e5c3cb",
      "execution_count": 4,
      "outputs": [
        {
          "output_type": "stream",
          "name": "stdout",
          "text": [
            "a. Tạo hai ma trận A và B có 4 dòng x 3 cột và X có 3 dòng x 4 cột\n",
            "+ Ma tran A: \n",
            "[[2 8 9]\n",
            " [0 2 6]\n",
            " [2 2 4]\n",
            " [4 0 9]]\n",
            "+ Ma tran B: \n",
            "[[8 4 0]\n",
            " [3 7 6]\n",
            " [6 5 6]\n",
            " [0 1 8]]\n",
            "+ Ma tran X: \n",
            "[[3 6 3 7]\n",
            " [3 0 3 8]\n",
            " [8 9 9 6]]\n",
            "\n",
            "b. Tính tổng, hiệu, tích của từng phần tử trên hai ma trận A và B\n",
            "A + B = \n",
            "[[10 12  9]\n",
            " [ 3  9 12]\n",
            " [ 8  7 10]\n",
            " [ 4  1 17]]\n",
            "A - B = \n",
            "[[-6  4  9]\n",
            " [-3 -5  0]\n",
            " [-4 -3 -2]\n",
            " [ 4 -1  1]]\n",
            "A . B = \n",
            "[[16 32  0]\n",
            " [ 0 14 36]\n",
            " [12 10 24]\n",
            " [ 0  0 72]]\n",
            "\n",
            "c. Tính phép nhân ma trận Y = A x X\n",
            "Y = A x X --> shape A ((4, 3)) x shape X ((3, 4)) = shape Y ((4, 4)) \n",
            "[[102  93 111 132]\n",
            " [ 54  54  60  52]\n",
            " [ 44  48  48  54]\n",
            " [ 84 105  93  82]]\n"
          ]
        }
      ]
    },
    {
      "cell_type": "markdown",
      "id": "43602379-f77d-44ba-b2e3-23f85c6bcf5a",
      "metadata": {
        "id": "43602379-f77d-44ba-b2e3-23f85c6bcf5a"
      },
      "source": [
        "#### 4. Giải hệ phương trình tuyến tính\n",
        "Giải hệ phương trình tuyến tính sau:\n",
        "$$\n",
        "\\left\\{\\begin{matrix}\n",
        "        4x_1  + 3x_2 - 5x_3 = 2 \\\\\n",
        "        -2x_1 - 4x_2 + 5x_3 = 5 \\\\\n",
        "        8x_1 + 8x_2 = -3 \\\\\n",
        "\\end{matrix}\\right.\n",
        "$$"
      ]
    },
    {
      "cell_type": "code",
      "execution_count": 6,
      "id": "53db2e93-fcbe-49f6-a4dd-482d22bcda54",
      "metadata": {
        "colab": {
          "base_uri": "https://localhost:8080/"
        },
        "id": "53db2e93-fcbe-49f6-a4dd-482d22bcda54",
        "outputId": "7e9aeb71-895a-447a-9a4a-54b12f016026"
      },
      "outputs": [
        {
          "output_type": "stream",
          "name": "stdout",
          "text": [
            "+ Ma tran A: \n",
            "[[ 4  3 -5]\n",
            " [-2 -4  5]\n",
            " [ 8  8  0]]\n",
            "+ Vector y: [ 2  5 -3]\n",
            "+ Nghiem x: [ 2.20833333 -2.58333333 -0.18333333]\n",
            "+ Kiem tra: yy = Ax = [ 2.  5. -3.] ==> ||yy -y ||_2 =  0.00\n"
          ]
        }
      ],
      "source": [
        "\"\"\" CÁC BẠN LÀM BÀI Ở ĐÂY \"\"\"\n",
        "# Định nghĩa ma trận hệ số A và vector kết quả y\n",
        "A = np.array([[4, 3, -5],\n",
        "              [-2, -4, 5],\n",
        "              [8, 8, 0]])\n",
        "\n",
        "y = np.array([2, 5, -3])\n",
        "\n",
        "# Giải hệ phương trình Ax = y để tìm x\n",
        "x = np.linalg.solve(A, y)\n",
        "\n",
        "# Kiểm tra lại kết quả: tính Ax và so sánh với y\n",
        "yy = np.dot(A, x)\n",
        "diff = np.linalg.norm(yy - y) # Tính độ lệch chuẩn giữa yy và y\n",
        "\n",
        "\n",
        "print(f\"+ Ma tran A: \\n{A}\")\n",
        "print(f\"+ Vector y: {y}\")\n",
        "print(f\"+ Nghiem x: {x}\")\n",
        "print(f\"+ Kiem tra: yy = Ax = {yy} ==> ||yy -y ||_2 = {diff: .2f}\")"
      ]
    },
    {
      "cell_type": "markdown",
      "id": "526b7e20-beca-4087-9cab-02ccc0a8f856",
      "metadata": {
        "id": "526b7e20-beca-4087-9cab-02ccc0a8f856"
      },
      "source": [
        "## Bài tập áp dụng"
      ]
    },
    {
      "cell_type": "markdown",
      "id": "9ee067fb-2045-4d3e-b504-ff4a8c3dcf37",
      "metadata": {
        "id": "9ee067fb-2045-4d3e-b504-ff4a8c3dcf37"
      },
      "source": [
        "### Bài 3. Tính gần đúng số pi dùng phương pháp Monte Carlo\n",
        "\n",
        "Vẽ một đường tròn $C$ có bán kính $r$ nội tiếp một hình vuông $C$, và đặt ngẫu nhiên $N$ chấm lên hình vuông. Tỉ lệ các chấm nằm trong hình tròn trên tổng số chấm xấp xỉ bằng diện tích của hình tròn chia cho hình vuông như sau:\n",
        "$$\n",
        "\\frac{N_C}{N} \\approx  \\frac{\\mathbb{S}_C}{\\mathbb{S}_N}\n",
        "$$\n",
        "nơi mà $N_C$ là các chấm trong hình tròn, $N$ là tổng số chấm, $\\mathbb{S}_C$ và $\\mathbb{S}_N$ lần lượt là diện tích của hình tròn và hình vuông.\n",
        "$$ \\mathbb{S}_C = \\pi * r^2 $$\n",
        "$$ \\mathbb{S}_N = (2*r)^2 = 4r^2 $$\n",
        "Do đó, công thức trên trở thành:\n",
        "$$\n",
        "\\frac{N_C}{N} \\approx \\frac{\\pi * r^2}{4r^2} = \\frac{\\pi}{4}\n",
        "$$\n",
        "Suy ra, ta có giá trị số $\\pi$ được tính như sau:\n",
        "$$\n",
        "\\pi \\approx \\frac{4N_C}{N}\n",
        "$$\n",
        "\n",
        "Các bạn hãy lập trình tính sấp xỉ số $\\pi$ dùng phương pháp Monte Carlo. Cho biết các sai số với $N = 100$, $N = 10000$, và $N = 1000000$. Vẽ đồ thị minh họa cho chương trình.\n",
        "\n",
        "**Hướng dẫn**: Viết chương trình phát sinh $N$ điểm $(x_i, y_i)$ với $x_i, y_i \\in [-1, -1]$. $(x_i, y_i)$ thuộc hình tròn tâm $(0, 0)$ bán kính 1 nội tiếp hình vuông có tâm tại $(0, 0)$ độ dài cạnh 2 khi và chỉ khi $x_i^2 + y_i^2 <= 1$."
      ]
    },
    {
      "cell_type": "code",
      "execution_count": 10,
      "id": "793640f7-4ba5-4d27-9d52-a65f4c25a5b0",
      "metadata": {
        "colab": {
          "base_uri": "https://localhost:8080/",
          "height": 528
        },
        "id": "793640f7-4ba5-4d27-9d52-a65f4c25a5b0",
        "outputId": "e42f2f4c-14f9-4a7f-c3a0-4cfd727968c4"
      },
      "outputs": [
        {
          "output_type": "display_data",
          "data": {
            "text/plain": [
              "<Figure size 600x600 with 1 Axes>"
            ],
            "image/png": "[encoded data removed]"
          },
          "metadata": {}
        }
      ],
      "source": [
        "import matplotlib.pyplot as plt # khai báo thư viện vẽ pyplot\n",
        "import math\n",
        "\n",
        "circle = plt.Circle((0, 0), 1, color='g') # tạo đối tượng vòng tròn\n",
        "\n",
        "fig, ax = plt.subplots(figsize=(6, 6)) # lấy figure và vùng vẽ\n",
        "\n",
        "plt.plot(0, 0, 'o', color=(0.9, 0.9, 1.0), alpha=0.8) # vẽ điểm tại tâm (0,0)\n",
        "ax.add_patch(circle) # thêm vòng tròn vào vùng vẽ\n",
        "\n",
        "x = 0.75; y = math.sqrt(1 - (x ** 2)) # (x = 0.75, y = căn bậc 2 của 1 - x^2)\n",
        "plt.arrow(0, 0, x, y)\n",
        "\n",
        "plt.xlim(-1, 1) # giới hạn trục x\n",
        "plt.ylim(-1, 1) # giới hạn trục y\n",
        "\n",
        "plt.savefig('pi.png') # lưu đồ thị xuống tập tin\n",
        "plt.show()            # hiển thị đồ thị"
      ]
    },
    {
      "cell_type": "code",
      "execution_count": 9,
      "id": "bef335d2-9e51-4fa5-8843-aa1d67a607f0",
      "metadata": {
        "id": "bef335d2-9e51-4fa5-8843-aa1d67a607f0"
      },
      "outputs": [],
      "source": [
        "import numpy as np\n",
        "\n",
        "def calc_pi_monte_carlo(n = 100):\n",
        "    pi = 0\n",
        "\n",
        "    # gợi ý: sử dụng np.random.rand(s1, s2, ...) --> sinh ngẫu nhiên các số trong nửa đoạn [0.0, 1.0)\n",
        "    \"\"\" CÁC BẠN LÀM BÀI Ở ĐÂY \"\"\"\n",
        "    # Sinh ngẫu nhiên n điểm (x, y) trong hình vuông [-1, 1] x [-1, 1]\n",
        "    # np.random.rand(n, 2) sinh ra mảng shape (n, 2) với giá trị trong [0, 1)\n",
        "    # Nhân với 2 và trừ đi 1 để có giá trị trong [-1, 1)\n",
        "    points = np.random.rand(n, 2) * 2 - 1\n",
        "\n",
        "    # Đếm số điểm nằm trong hình tròn bán kính 1 (tâm tại (0,0))\n",
        "    # Một điểm (x, y) nằm trong hình tròn nếu x^2 + y^2 <= 1\n",
        "    points_in_circle = points[np.sum(points**2, axis=1) <= 1]\n",
        "    n_in_circle = len(points_in_circle)\n",
        "\n",
        "    # Ước tính pi\n",
        "    pi = 4 * n_in_circle / n\n",
        "\n",
        "    return pi\n",
        "# calc_pi_monte_carlo"
      ]
    },
    {
      "cell_type": "code",
      "execution_count": 8,
      "id": "91071758-5957-497b-a5d1-2f2d17df6fae",
      "metadata": {
        "colab": {
          "base_uri": "https://localhost:8080/"
        },
        "id": "91071758-5957-497b-a5d1-2f2d17df6fae",
        "outputId": "09990a7c-e4be-4769-a801-439f0b897179"
      },
      "outputs": [
        {
          "output_type": "stream",
          "name": "stdout",
          "text": [
            "epsilon(n=100):  0.018407346410207026\n",
            "epsilon(n=100):  0.0984073464102071\n",
            "epsilon(n=10000):  -0.011592653589793223\n",
            "epsilon(n=10000):  -0.004392653589793127\n",
            "epsilon(n=1000000):  0.00090334641020684\n",
            "epsilon(n=1000000):  0.000575346410206734\n"
          ]
        }
      ],
      "source": [
        "import math\n",
        "\n",
        "print(\"epsilon(n=100): \", calc_pi_monte_carlo(n = 100) - math.pi)\n",
        "print(\"epsilon(n=100): \", calc_pi_monte_carlo(n = 100) - math.pi)\n",
        "print(\"epsilon(n=10000): \", calc_pi_monte_carlo(n = 10000) - math.pi)\n",
        "print(\"epsilon(n=10000): \", calc_pi_monte_carlo(n = 10000) - math.pi)\n",
        "print(\"epsilon(n=1000000): \", calc_pi_monte_carlo(n = 1000000) - math.pi)\n",
        "print(\"epsilon(n=1000000): \", calc_pi_monte_carlo(n = 1000000) - math.pi)"
      ]
    }
  ],
  "metadata": {
    "kernelspec": {
      "display_name": "Python 3",
      "language": "python",
      "name": "python3"
    },
    "language_info": {
      "codemirror_mode": {
        "name": "ipython",
        "version": 3
      },
      "file_extension": ".py",
      "mimetype": "text/x-python",
      "name": "python",
      "nbconvert_exporter": "python",
      "pygments_lexer": "ipython3",
      "version": "3.8.8"
    },
    "colab": {
      "provenance": [],
      "toc_visible": true
    }
  },
  "nbformat": 4,
  "nbformat_minor": 5
}