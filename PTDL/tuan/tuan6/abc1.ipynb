{
 "cells": [
  {
   "cell_type": "markdown",
   "id": "7aa4da7c",
   "metadata": {},
   "source": [
    "Đoạn code 1: Đọc và chuyển đổi dữ liệu JSON"
   ]
  },
  {
   "cell_type": "code",
   "execution_count": 22,
   "id": "0ea31e2f",
   "metadata": {},
   "outputs": [],
   "source": [
    "import json\n",
    "\n",
    "path = \"example.txt\"\n",
    "with open(path) as f:\n",
    "    # Đọc dòng đầu tiên để xem cấu trúc\n",
    "    # print(f.readline()) \n",
    "    \n",
    "    # Tải tất cả các bản ghi vào một danh sách các từ điển\n",
    "    records = [json.loads(line) for line in f]  "
   ]
  },
  {
   "cell_type": "markdown",
   "id": "3a68d901",
   "metadata": {},
   "source": [
    "2. Đếm Múi Giờ bằng Pure Python"
   ]
  },
  {
   "cell_type": "code",
   "execution_count": 21,
   "id": "14ca2edf",
   "metadata": {},
   "outputs": [
    {
     "name": "stdout",
     "output_type": "stream",
     "text": [
      "Các múi giờ tìm thấy:\n",
      "['America/New_York', 'America/Chicago', 'America/New_York', 'Europe/London', '', 'Asia/Tokyo']\n"
     ]
    }
   ],
   "source": [
    "# 1. Định nghĩa biến `records`\n",
    "# Đây là một danh sách (list) chứa các từ điển (dictionary).\n",
    "# Một số từ điển có khóa \"tz\", một số không có.\n",
    "records = [\n",
    "    {'a': 1, 'c': '...', 'tz': 'America/New_York'},\n",
    "    {'a': 2, 'c': '...', 'tz': 'America/Chicago'},\n",
    "    {'a': 3, 'c': '...'},  # Bản ghi này không có 'tz'\n",
    "    {'a': 4, 'c': '...', 'tz': 'America/New_York'},\n",
    "    {'a': 5, 'c': '...', 'tz': 'Europe/London'},\n",
    "    {'a': 6, 'c': '...', 'tz': ''}, # Bản ghi này có 'tz' nhưng giá trị rỗng\n",
    "    {'a': 7, 'c': '...', 'tz': 'Asia/Tokyo'}\n",
    "]\n",
    "\n",
    "# 2. Đoạn code của bạn (đặt sau khi đã có `records`)\n",
    "# Trích xuất danh sách múi giờ, chỉ bao gồm các bản ghi có trường \"tz\"\n",
    "time_zones = [rec[\"tz\"] for rec in records if \"tz\" in rec]\n",
    "\n",
    "# Sử dụng print() để hiển thị 10 múi giờ đầu tiên\n",
    "print(\"Các múi giờ tìm thấy:\")\n",
    "print(time_zones[:10])\n"
   ]
  },
  {
   "cell_type": "markdown",
   "id": "b639307b",
   "metadata": {},
   "source": [
    "Đoạn code 3: Đếm múi giờ bằng collections.Counter"
   ]
  },
  {
   "cell_type": "code",
   "execution_count": null,
   "id": "40dc19c1",
   "metadata": {},
   "outputs": [
    {
     "name": "stdout",
     "output_type": "stream",
     "text": [
      "Kết quả đếm số lần xuất hiện các múi giờ:\n",
      "{'America/New_York': 2, 'America/Chicago': 1}\n"
     ]
    }
   ],
   "source": [
    "import json\n",
    "\n",
    "# === Bước 1: Chuẩn bị dữ liệu ===\n",
    "# Giả sử chúng ta đọc file và lấy ra danh sách múi giờ như trước\n",
    "path = r\"example.txt\"\n",
    "with open(path, 'r', encoding='utf-8') as f:\n",
    "    records = [json.loads(line) for line in f]\n",
    "\n",
    "time_zones = [rec[\"tz\"] for rec in records if \"tz\" in rec]\n",
    "# time_zones bây giờ là: ['America/New_York', 'America/Chicago', 'America/New_York']\n",
    "\n",
    "# === Bước 2: Định nghĩa hàm của bạn ===\n",
    "# Code của bạn ở đây - nó hoàn toàn đúng!\n",
    "def get_counts(sequence):\n",
    "    \"\"\"\n",
    "    Đếm số lần xuất hiện của mỗi phần tử trong một sequence (ví dụ: list).\n",
    "    \"\"\"\n",
    "    counts = {}\n",
    "    for x in sequence:\n",
    "        if x in counts:\n",
    "            counts[x] += 1\n",
    "        else:\n",
    "            counts[x] = 1\n",
    "    return counts\n",
    "\n",
    "\n",
    "# === Bước 3: Gọi hàm và in kết quả (Đây là bước bạn đang thiếu) ===\n",
    "# Gọi hàm get_counts với đầu vào là danh sách time_zones\n",
    "tz_counts = get_counts(time_zones)\n",
    "\n",
    "# In kết quả ra màn hình để xem\n",
    "print(\"Kết quả đếm số lần xuất hiện các múi giờ:\")\n",
    "print(tz_counts)\n"
   ]
  }
 ],
 "metadata": {
  "kernelspec": {
   "display_name": "base",
   "language": "python",
   "name": "python3"
  },
  "language_info": {
   "codemirror_mode": {
    "name": "ipython",
    "version": 3
   },
   "file_extension": ".py",
   "mimetype": "text/x-python",
   "name": "python",
   "nbconvert_exporter": "python",
   "pygments_lexer": "ipython3",
   "version": "3.13.5"
  }
 },
 "nbformat": 4,
 "nbformat_minor": 5
}
