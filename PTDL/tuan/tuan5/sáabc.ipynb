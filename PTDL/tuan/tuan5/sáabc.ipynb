{
 "cells": [
  {
   "cell_type": "markdown",
   "id": "3ab27f5e",
   "metadata": {},
   "source": [
    "1. Phân tích đơn biến (Univariate Analysis) là gì?\n",
    "Phân tích đơn biến là việc xem xét một biến (một cột dữ liệu) duy nhất để hiểu đặc điểm của nó, như:\n",
    "Phân bố giá trị (ví dụ: nhiều giá trị nhỏ, ít giá trị lớn)\n",
    "Trung bình, độ lệch chuẩn\n",
    "Tần suất xuất hiện các giá trị\n",
    "📘 Mục tiêu: Hiểu đặc điểm riêng lẻ của biến.\n",
    "👉 Khác với phân tích hai biến (Bivariate Analysis):\n",
    "Phân tích đơn biến → 1 biến\n",
    "Phân tích hai biến → xem mối quan hệ giữa 2 biến\n",
    "Ví dụ:\n",
    "Đơn biến: phân tích phân bố tuổi của khách hàng\n",
    "Hai biến: xem mối quan hệ giữa tuổi và thu nhập"
   ]
  },
  {
   "cell_type": "code",
   "execution_count": null,
   "id": "26f2eef6",
   "metadata": {
    "vscode": {
     "languageId": "ini"
    }
   },
   "outputs": [],
   "source": [
    "📊 2. Các thước đo thống kê trong phân tích đơn biến\n",
    "Phân tích đơn biến thường dùng các thước đo thống kê để mô tả đặc điểm của dữ liệu như trung tâm, độ phân tán và hình dạng phân bố.\n",
    "🔹 Các nhóm thước đo chính:\n",
    "Xu hướng trung tâm: Mean (trung bình), Median (trung vị), Mode (giá trị xuất hiện nhiều nhất)\n",
    "→ Giúp hiểu giá trị điển hình của dữ liệu.\n",
    "Độ phân tán: Variance (phương sai), Standard deviation (độ lệch chuẩn), Range (khoảng biến thiên)\n",
    "→ Cho biết dữ liệu tập trung hay rải rác quanh trung bình.\n",
    "Phân phối: Skewness (độ lệch), Kurtosis (độ nhọn)\n",
    "→ Giúp nhận biết dạng phân bố (lệch trái, lệch phải, nhọn, phẳng).\n",
    "Mục tiêu: Nắm rõ dữ liệu có xu hướng, độ biến động và dạng phân bố như thế nào.\n",
    "Ví dụ: Khi phân tích điểm thi của lớp, trung bình = 7.5, độ lệch chuẩn = 1.2 → hầu hết học sinh có điểm quanh 7–8."
   ]
  },
  {
   "cell_type": "code",
   "execution_count": null,
   "id": "31b5356d",
   "metadata": {
    "vscode": {
     "languageId": "ini"
    }
   },
   "outputs": [],
   "source": [
    "🔗 3. Phân tích hai biến (Bivariate Analysis)\n",
    "Phân tích hai biến là việc xem xét mối quan hệ giữa hai biến để hiểu cách một biến thay đổi khi biến kia thay đổi.\n",
    "🔹 Các trường hợp phổ biến:\n",
    "Hai biến số (numeric + numeric): Dùng hệ số tương quan (correlation) để xem hai biến có tăng/giảm cùng nhau không.\n",
    "→ Biểu đồ: Scatter plot, Heatmap\n",
    "Biến số + Biến phân loại: So sánh trung bình giữa các nhóm bằng Boxplot hoặc Violin plot.\n",
    "Hai biến phân loại: Dùng bảng chéo (crosstab) hoặc heatmap để thấy tần suất kết hợp giữa các nhóm.\n",
    " Mục tiêu: Xác định xem hai biến có liên quan hay độc lập.\n",
    " Ví dụ: Nếu hệ số tương quan giữa chiều cao và cân nặng là 0.85 → người cao thường nặng hơn (quan hệ cùng chiều)."
   ]
  },
  {
   "cell_type": "code",
   "execution_count": null,
   "id": "7c540a1c",
   "metadata": {
    "vscode": {
     "languageId": "ini"
    }
   },
   "outputs": [],
   "source": [
    "🔹 4. So sánh chi tiết giữa Hiệp biến (Covariance) và Hệ số tương quan (Correlation)\n",
    "1 Công thức\n",
    "Hiệp biến (Covariance):\n",
    "Cov(X, Y) = Σ [(Xi - X̄)(Yi - Ȳ)] / (n - 1)\n",
    "Hệ số tương quan (Correlation):\n",
    "r = Cov(X, Y) / (σX * σY)\n",
    "⚖️ 2️⃣ Thang đo\n",
    "Covariance: Có đơn vị đo, phụ thuộc vào kích thước và đơn vị của dữ liệu (ví dụ: cm², kg·m, …).\n",
    "Correlation: Không có đơn vị, giá trị luôn nằm trong khoảng [-1, 1].\n",
    "📊 3️⃣ Ý nghĩa\n",
    "Covariance:\n",
    "➤ Chỉ cho biết chiều biến động giữa hai biến:\n",
    "Dương → Hai biến tăng cùng chiều\n",
    "Âm → Hai biến ngược chiều\n",
    "Gần 0 → Không có mối quan hệ tuyến tính rõ ràng\n",
    "Correlation:\n",
    "➤ Cho biết cả chiều lẫn mức độ mạnh/yếu của mối quan hệ:\n",
    "|r| gần 1 → Quan hệ mạnh\n",
    "|r| gần 0 → Quan hệ yếu\n",
    "🔍 4️⃣ Khả năng so sánh\n",
    "Covariance: Khó so sánh khi các biến có đơn vị đo khác nhau.\n",
    "Correlation: Dễ so sánh hơn vì đã được chuẩn hóa (standardized).\n",
    "🧠 5️⃣ Khi nào nên dùng?\n",
    "Dùng Covariance → Khi bạn chỉ muốn biết xu hướng biến động (cùng hay ngược chiều).\n",
    "Dùng Correlation → Khi bạn muốn biết độ mạnh của mối quan hệ tuyến tính giữa hai biến."
   ]
  },
  {
   "cell_type": "code",
   "execution_count": null,
   "id": "2fd4752f",
   "metadata": {
    "vscode": {
     "languageId": "ini"
    }
   },
   "outputs": [],
   "source": [
    "📈 5. Khi nào dùng biểu đồ trực quan hóa\n",
    "Trực quan hóa giúp hiểu nhanh và trực tiếp đặc điểm hoặc mối quan hệ trong dữ liệu.\n",
    "🔹 Phân tích đơn biến:\n",
    "Histogram: Hiểu phân bố giá trị.\n",
    "Boxplot: Xác định trung vị, khoảng tứ phân vị và giá trị ngoại lai.\n",
    "Bar chart: So sánh tần suất giữa các nhóm.\n",
    "🔹 Phân tích hai biến:\n",
    "Scatter plot: Thấy rõ mối quan hệ giữa hai biến số (ví dụ: chiều cao – cân nặng).\n",
    "Heatmap: Quan sát nhiều mối tương quan cùng lúc.\n",
    "Boxplot / Violin plot: So sánh phân bố giữa các nhóm khác nhau của biến phân loại.\n",
    "Mục tiêu:\n",
    "Dễ phát hiện xu hướng, ngoại lệ hoặc tương quan.\n",
    "Ví dụ:\n",
    "Scatter plot giữa giá nhà và diện tích cho thấy giá tăng khi diện tích lớn hơn."
   ]
  },
  {
   "cell_type": "code",
   "execution_count": null,
   "id": "8cb6d27a",
   "metadata": {},
   "outputs": [],
   "source": [
    "6.Đoạn code mẫu để tạo biểu đồ scatter plot hoặc heatmap để phân tích mối quan hệ giữa hai biến?\n"
   ]
  },
  {
   "cell_type": "code",
   "execution_count": null,
   "id": "89e5dbd4",
   "metadata": {},
   "outputs": [],
   "source": [
    "🔹 Dùng Scatter Plot (biểu đồ phân tán)\n"
   ]
  },
  {
   "cell_type": "code",
   "execution_count": null,
   "id": "6485a081",
   "metadata": {},
   "outputs": [],
   "source": [
    "import seaborn as sns\n",
    "import matplotlib.pyplot as plt\n",
    "\n",
    "# Ví dụ dữ liệu\n",
    "df = sns.load_dataset('penguins')  # Bộ dữ liệu chim cánh cụt\n",
    "\n",
    "# Biểu đồ phân tán giữa chiều dài và chiều sâu mỏ\n",
    "sns.scatterplot(data=df, x='bill_length_mm', y='bill_depth_mm', hue='species')\n",
    "\n",
    "plt.title('Mối quan hệ giữa chiều dài và chiều sâu mỏ (theo loài)')\n",
    "plt.xlabel('Chiều dài mỏ (mm)')\n",
    "plt.ylabel('Chiều sâu mỏ (mm)')\n",
    "plt.show()\n"
   ]
  },
  {
   "cell_type": "code",
   "execution_count": null,
   "id": "0b93d6f8",
   "metadata": {},
   "outputs": [],
   "source": [
    "Ý nghĩa:\n",
    "Mỗi điểm là một cá thể (chim).\n",
    "Màu sắc biểu thị loài (species).\n",
    "Dễ thấy mối quan hệ tuyến tính hoặc phân cụm giữa các nhóm."
   ]
  },
  {
   "cell_type": "code",
   "execution_count": null,
   "id": "29557114",
   "metadata": {},
   "outputs": [],
   "source": [
    "Dùng Heatmap để hiển thị ma trận tương quan"
   ]
  },
  {
   "cell_type": "code",
   "execution_count": null,
   "id": "ff50316a",
   "metadata": {},
   "outputs": [],
   "source": [
    "import seaborn as sns\n",
    "import matplotlib.pyplot as plt\n",
    "\n",
    "# Tính ma trận tương quan\n",
    "corr = df.corr(numeric_only=True)\n",
    "\n",
    "# Vẽ heatmap\n",
    "sns.heatmap(corr, annot=True, cmap='coolwarm', center=0)\n",
    "plt.title('Biểu đồ Heatmap thể hiện hệ số tương quan giữa các biến')\n",
    "plt.show()\n"
   ]
  },
  {
   "cell_type": "code",
   "execution_count": null,
   "id": "3fe6a3da",
   "metadata": {},
   "outputs": [],
   "source": [
    "Ý nghĩa:\n",
    "Màu đỏ → tương quan dương mạnh\n",
    "Màu xanh → tương quan âm mạnh\n",
    "Số trong ô là hệ số tương quan (Correlation Coefficient)"
   ]
  },
  {
   "cell_type": "code",
   "execution_count": null,
   "id": "be3631a3",
   "metadata": {},
   "outputs": [],
   "source": [
    "7.Làm thế nào để trực quan hóa mối quan hệ giữa một biến số và một biến phân loại bằng biểu đồ\n",
    "boxplot hoặc violin plot trong Python?"
   ]
  },
  {
   "cell_type": "code",
   "execution_count": null,
   "id": "fd8e6874",
   "metadata": {},
   "outputs": [],
   "source": [
    "Trực quan hóa mối quan hệ giữa biến số (numeric) và biến phân loại (categorical)"
   ]
  },
  {
   "cell_type": "code",
   "execution_count": null,
   "id": "b5a8c7a6",
   "metadata": {},
   "outputs": [],
   "source": [
    "Dùng Boxplot (biểu đồ hộp)"
   ]
  },
  {
   "cell_type": "code",
   "execution_count": null,
   "id": "73ee7b56",
   "metadata": {},
   "outputs": [],
   "source": [
    "sns.boxplot(data=df, x='species', y='bill_length_mm')\n",
    "plt.title('Phân bố chiều dài mỏ theo từng loài')\n",
    "plt.xlabel('Loài')\n",
    "plt.ylabel('Chiều dài mỏ (mm)')\n",
    "plt.show()\n"
   ]
  },
  {
   "cell_type": "code",
   "execution_count": null,
   "id": "6498b136",
   "metadata": {},
   "outputs": [],
   "source": [
    "Ý nghĩa:\n",
    "Hộp thể hiện phân bố (trung vị, tứ phân vị).\n",
    "Dễ so sánh giá trị trung bình và độ phân tán giữa các nhóm."
   ]
  },
  {
   "cell_type": "code",
   "execution_count": null,
   "id": "6430964b",
   "metadata": {},
   "outputs": [],
   "source": [
    "Dùng Violin Plot (biểu đồ violin)"
   ]
  },
  {
   "cell_type": "code",
   "execution_count": null,
   "id": "8d70459d",
   "metadata": {},
   "outputs": [],
   "source": [
    "sns.violinplot(data=df, x='species', y='bill_length_mm', inner='quartile')\n",
    "plt.title('Biểu đồ violin chiều dài mỏ theo từng loài')\n",
    "plt.xlabel('Loài')\n",
    "plt.ylabel('Chiều dài mỏ (mm)')\n",
    "plt.show()\n"
   ]
  },
  {
   "cell_type": "code",
   "execution_count": null,
   "id": "b2433e7a",
   "metadata": {},
   "outputs": [],
   "source": [
    "Ý nghĩa:\n",
    "Tương tự boxplot nhưng thêm phân bố xác suất (density).\n",
    "Hữu ích để thấy rõ dạng phân phối (lệch trái/phải, nhiều đỉnh…)."
   ]
  },
  {
   "cell_type": "code",
   "execution_count": null,
   "id": "9d1a9d3c",
   "metadata": {
    "vscode": {
     "languageId": "ini"
    }
   },
   "outputs": [],
   "source": [
    "Tóm lại: Chọn biểu đồ phù hợp trong phân tích hai biến\n",
    "Để trực quan hóa mối quan hệ giữa các biến, ta cần chọn loại biểu đồ phù hợp tùy theo kiểu dữ liệu của biến.\n",
    "🔹Quan hệ giữa hai biến số (numeric ↔ numeric)\n",
    "👉 Biểu đồ gợi ý: scatterplot, heatmap\n",
    "📘 Mục tiêu:\n",
    "Hiển thị mối tương quan hoặc xu hướng tuyến tính giữa hai biến số.\n",
    "Ví dụ: Chiều dài mỏ và chiều sâu mỏ của chim, hoặc tuổi và thu nhập của khách hàng.\n",
    "🔹So sánh phân bố theo nhóm (numeric ↔ categorical)\n",
    "👉 Biểu đồ gợi ý: boxplot, violinplot\n",
    "📘 Mục tiêu:\n",
    "So sánh sự khác biệt về phân bố giá trị của một biến số giữa các nhóm phân loại khác nhau.\n",
    "Ví dụ: So sánh chiều dài mỏ giữa các loài chim, hoặc thu nhập giữa các ngành nghề."
   ]
  },
  {
   "cell_type": "code",
   "execution_count": null,
   "id": "419802b0",
   "metadata": {},
   "outputs": [],
   "source": [
    "1. Import thư viện và nạp dữ liệu"
   ]
  },
  {
   "cell_type": "code",
   "execution_count": null,
   "id": "dab2b140",
   "metadata": {},
   "outputs": [],
   "source": [
    "\n",
    "# Nhập thư viện pandas để xử lý dữ liệu, thường được viết tắt là pd\n",
    "import pandas as pd\n",
    "# Nhập thư viện matplotlib.pyplot để vẽ các biểu đồ cơ bản, viết tắt là plt\n",
    "import matplotlib.pyplot as plt\n",
    "# Nhập thư viện seaborn để vẽ các biểu đồ thống kê đẹp mắt hơn, viết tắt là sns\n",
    "import seaborn as sns\n",
    "# gọi là DataFrame có tên là penguins_data.\n",
    "penguins_data = pd.read_csv(\"data/penguins_size.csv\")\n",
    "# Ghi đè lên DataFrame cũ bằng một DataFrame mới.\n",
    "# DataFrame mới này chỉ chứa hai cột là 'species' (loài) và 'culmen_length_mm' (độ dài mỏ).\n",
    "# Việc này giúp tập trung vào dữ liệu cần thiết cho các phân tích tiếp theo.\n",
    "penguins_data = penguins_data[['species','culmen_length_mm']]\n"
   ]
  },
  {
   "cell_type": "code",
   "execution_count": null,
   "id": "33db6b52",
   "metadata": {},
   "outputs": [],
   "source": [
    "\n",
    "2. Phân tích đơn biến bằng Histogram"
   ]
  },
  {
   "cell_type": "code",
   "execution_count": null,
   "id": "171d45e3",
   "metadata": {},
   "outputs": [],
   "source": [
    "# case 1: basic\n",
    "sns.histplot( data = penguins_data, x= penguins_data[\"culmen_length_mm\"])"
   ]
  },
  {
   "cell_type": "code",
   "execution_count": null,
   "id": "e6dbe137",
   "metadata": {
    "vscode": {
     "languageId": "ini"
    }
   },
   "outputs": [],
   "source": [
    "Nhận xét chi tiết về biểu đồ\n",
    "Loại biểu đồ và mục đích: Đây là biểu đồ tần suất (histogram), dùng để thể hiện sự phân bố của một biến số liên tục. Trong trường hợp này, \n",
    "    nó cho thấy có bao nhiêu con chim cánh cụt tương ứng với mỗi khoảng độ dài mỏ (culmen_length_mm).\n",
    "Đặc điểm nổi bật nhất: Phân bố hai đỉnh (Bimodal Distribution)\n",
    "    Thay vì có dạng hình chuông đối xứng (phân bố chuẩn) với một đỉnh duy nhất ở giữa, biểu đồ này có hai đỉnh rõ rệt.\n",
    "    Đỉnh thứ nhất (bên trái): Đây chủ yếu là các con chim cánh cụt loài Adelie.\n",
    "    Tập trung quanh giá trị 38-40 mm. Đây là nhóm có số lượng (count) cao nhất.\n",
    "    Đỉnh thứ hai (bên phải): Đây chủ yếu là các con chim cánh cụt loài Gentoo. \n",
    "    Tập trung quanh giá trị 47-50 mm. Nhóm này có số lượng ít hơn nhóm đầu tiên.\n",
    "    Giữa hai đỉnh này là một \"thung lũng\" (vùng có tần suất thấp) ở khoảng 43-45 mm, cho thấy sự tách biệt tương đối giữa hai nhóm.\n",
    "Đánh giá và Ý nghĩa\n",
    "Sự tồn tại của hai đỉnh là phát hiện quan trọng nhất từ biểu đồ này. Nó cho chúng ta biết điều gì?\n",
    "    Dữ liệu không đồng nhất: Phân bố hai đỉnh là một dấu hiệu mạnh mẽ \n",
    "    cho thấy tập dữ liệu bạn đang xem không phải là một khối đồng nhất. \n",
    "    Thay vào đó, nó được tạo thành từ ít nhất hai nhóm con (sub-groups) có đặc điểm khác nhau rõ rệt.\n",
    "    Đỉnh bên trái (mỏ ngắn hơn) chủ yếu được tạo thành từ loài Adelie.\n",
    "    Đỉnh bên phải (mỏ dài hơn) chủ yếu được tạo thành từ loài Gentoo.\n",
    "    Loài Chinstrap có độ dài mỏ nằm ở khoảng giữa và góp phần vào hình dạng chung của cả hai đỉnh.\n",
    "Kết luận đánh giá:\n",
    "    Điểm mạnh: Biểu đồ này là một công cụ phân tích khám phá dữ liệu (Exploratory Data Analysis - EDA) xuất sắc. \n",
    "    Chỉ với một dòng code, nó đã giúp bạn phát hiện ra một cấu trúc tiềm ẩn quan trọng trong dữ liệu mà nếu chỉ nhìn vào các con số thống kê như giá trị trung bình (mean) sẽ không thể thấy được.\n",
    "    Hạn chế/Bước tiếp theo: Biểu đồ này cho thấy có các nhóm, nhưng không cho biết đó là nhóm nào. \n",
    "    Do đó, bước phân tích hợp lý tiếp theo là phải tách dữ liệu ra theo từng loài để xác nhận giả thuyết trên."
   ]
  },
  {
   "cell_type": "code",
   "execution_count": null,
   "id": "fa56e397",
   "metadata": {},
   "outputs": [],
   "source": [
    "2. Phân tích đơn biến bằng Histogram"
   ]
  },
  {
   "cell_type": "code",
   "execution_count": null,
   "id": "aecce7fc",
   "metadata": {},
   "outputs": [],
   "source": [
    "# case 2: advanced\n",
    "plt.figure(figsize= (12,6))\n",
    "ax = sns.histplot( data = penguins_data, x=penguins_data[\"culmen_length_mm\"])\n",
    "ax.set_xlabel('Culmen Length in mm',fontsize = 15)\n",
    "ax.set_ylabel('Count of records', fontsize = 15)\n",
    "ax.set_title('Univariate analysis of Culmen Length',fontsize= 20)"
   ]
  },
  {
   "cell_type": "code",
   "execution_count": null,
   "id": "38bedee6",
   "metadata": {
    "vscode": {
     "languageId": "ini"
    }
   },
   "outputs": [],
   "source": [
    "Biểu đồ được tạo ra từ đoạn code này về mặt dữ liệu thì giống hệt biểu đồ trước, nhưng được trình bày đẹp hơn.\n",
    "Biểu đồ kết quả:\n",
    "Nhận xét và Đánh giá:\n",
    "Phân tích của chúng ta vẫn tập trung vào đặc điểm cốt lõi của dữ liệu được biểu diễn:\n",
    "\n",
    "1.Đặc điểm nổi bật nhất: Phân bố hai đỉnh (Bimodal Distribution)\n",
    "    Biểu đồ này một lần nữa cho thấy rõ ràng sự tồn tại của hai đỉnh (hai cụm dữ liệu chính), \n",
    "    thay vì một đỉnh trung tâm duy nhất. Đây là phát hiện quan trọng nhất.\n",
    "    Đỉnh 1 (bên trái): Một nhóm lớn các con chim cánh cụt có độ dài mỏ tập trung quanh 38-40 mm.\n",
    "    Đỉnh 2 (bên phải): Một nhóm khác, nhỏ hơn, có độ dài mỏ tập trung quanh 47-50 mm.\n",
    "    \"Thung lũng\" ở giữa: Vùng tần suất thấp ở khoảng 43-45 mm hoạt động như một ranh giới tự nhiên, củng cố thêm ý tưởng rằng đây là hai nhóm riêng biệt.\n",
    "2.Ý nghĩa và Suy luận:\n",
    "    Như đã phân tích ở lần trước, hình dạng hai đỉnh này là một \"manh mối\" mạnh mẽ \n",
    "    cho thấy bạn đang phân tích dữ liệu của nhiều nhóm gộp lại. Trong trường hợp này, đó là 3 loài chim cánh cụt khác nhau.\n",
    "    Đỉnh bên trái (mỏ ngắn) chủ yếu là loài Adelie.\n",
    "    Đỉnh bên phải (mỏ dài) chủ yếu là loài Gentoo.\n",
    "3.Đánh giá về mặt trình bày:\n",
    "    Rất tốt: So với biểu đồ cơ bản, biểu đồ này vượt trội hơn hẳn. \n",
    "    Tiêu đề rõ ràng (Univariate analysis of Culmen Length), các trục được dán nhãn cụ thể (Culmen Length in mm, Count of records), và kích thước phông chữ hợp lý giúp người xem nắm bắt thông tin nhanh chóng và chính xác. Đây là một ví dụ điển hình về cách trình bày dữ liệu một cách hiệu quả."
   ]
  },
  {
   "cell_type": "code",
   "execution_count": null,
   "id": "aa979cbf",
   "metadata": {},
   "outputs": [],
   "source": [
    "CẢI TIẾN "
   ]
  },
  {
   "cell_type": "code",
   "execution_count": null,
   "id": "eefe18db",
   "metadata": {},
   "outputs": [],
   "source": [
    "# --- Bước 1: Nhập thư viện ---\n",
    "import pandas as pd\n",
    "import matplotlib.pyplot as plt\n",
    "import seaborn as sns\n",
    "\n",
    "# --- Bước 2: Tải và làm sạch dữ liệu một cách cẩn thận ---\n",
    "# Ghi chú: File CSV của bạn có các giá trị \"NA\" và \".\" đại diện cho dữ liệu thiếu.\n",
    "# Chúng ta cần chỉ cho pandas biết điều này khi đọc file.\n",
    "penguins_data_full = pd.read_csv(\n",
    "    \"c:\\\\Users\\\\Ha\\\\Desktop\\\\PTDL\\\\tuan\\\\New folder\\\\penguins_size.csv\",\n",
    "    na_values=['NA', '.']\n",
    ")\n",
    "\n",
    "# Loại bỏ tất cả các hàng có chứa bất kỳ giá trị thiếu nào để đảm bảo phân tích chính xác\n",
    "penguins_data_full.dropna(inplace=True)\n",
    "\n",
    "\n",
    "# --- Bước 3: Vẽ biểu đồ để \"nhìn thấy\" hai đỉnh ---\n",
    "# Thiết lập kích thước biểu đồ cho dễ nhìn\n",
    "plt.figure(figsize=(12, 7))\n",
    "\n",
    "# Vẽ biểu đồ histogram, nhưng lần này dùng `hue=\"species\"` để tô màu cho từng loài.\n",
    "# Thêm `kde=True` để vẽ một đường cong ước tính mật độ, giúp nhìn các đỉnh dễ hơn.\n",
    "sns.histplot(data=penguins_data_full, x=\"culmen_length_mm\", hue=\"species\", kde=True)\n",
    "\n",
    "# Thêm các nhãn và tiêu đề cho rõ ràng\n",
    "plt.title(\"Phân bố độ dài mỏ theo từng loài (Làm rõ 'Hai Đỉnh')\", fontsize=16)\n",
    "plt.xlabel(\"Độ dài mỏ (mm)\", fontsize=12)\n",
    "plt.ylabel(\"Số lượng (Count)\", fontsize=12)\n",
    "plt.grid(axis='y', linestyle='--', alpha=0.7) # Thêm lưới ngang để dễ so sánh chiều cao\n",
    "\n",
    "# Hiển thị biểu đồ\n",
    "plt.show()\n"
   ]
  },
  {
   "cell_type": "code",
   "execution_count": null,
   "id": "0dfcdb9b",
   "metadata": {
    "vscode": {
     "languageId": "ini"
    }
   },
   "outputs": [],
   "source": [
    "Kết quả của đoạn code trên:\n",
    "Khi bạn chạy đoạn code này, bạn sẽ nhận được một biểu đồ mới. Trên đó, bạn sẽ thấy rõ ràng:\n",
    "    Một cụm màu xanh lam (loài Adelie) tạo nên đỉnh bên trái.\n",
    "    Một cụm màu cam (loài Chinstrap) nằm ở giữa.\n",
    "    Một cụm màu xanh lá (loài Gentoo) tạo nên đỉnh bên phải.\n",
    "Lúc này, bạn sẽ không chỉ \"hình dung\" ra hai đỉnh nữa,\n",
    "mà bạn sẽ nhìn thấy chúng được tạo ra từ các nhóm dữ liệu riêng biệt như thế nào."
   ]
  },
  {
   "cell_type": "code",
   "execution_count": null,
   "id": "98429723",
   "metadata": {},
   "outputs": [],
   "source": [
    "3. Phân tích đơn biến bằng bar chart"
   ]
  },
  {
   "cell_type": "code",
   "execution_count": null,
   "id": "131acd93",
   "metadata": {},
   "outputs": [],
   "source": [
    "# case 1: basic"
   ]
  },
  {
   "cell_type": "code",
   "execution_count": null,
   "id": "8ae9f8f8",
   "metadata": {},
   "outputs": [],
   "source": [
    "# sns.countplot(...): Đây là một hàm từ thư viện Seaborn\n",
    "sns.countplot(data = penguins_data, x= penguins_data['species'])"
   ]
  },
  {
   "cell_type": "code",
   "execution_count": null,
   "id": "4f9781b6",
   "metadata": {
    "vscode": {
     "languageId": "ini"
    }
   },
   "outputs": [],
   "source": [
    "Phân tích số liệu:\n",
    "    Loài Adelie: Là loài có số lượng đông đảo nhất trong tập dữ liệu,\n",
    "    với khoảng 152 cá thể. Cột của Adelie là cao nhất.\n",
    "    Loài Gentoo: Là loài có số lượng đứng thứ hai, với khoảng 124 cá thể.\n",
    "    Loài Chinstrap: Là loài có số lượng ít nhất, với chỉ khoảng 68 cá thể.\n",
    "Đánh giá và Ý nghĩa:\n",
    "    Mất cân bằng dữ liệu (Data Imbalance): Biểu đồ này cho thấy một sự mất cân bằng nhẹ trong tập dữ liệu. \n",
    "    Số lượng cá thể của loài Adelie nhiều hơn gấp đôi so với loài Chinstrap.\n",
    "    Tác động đến phân tích: Việc biết được sự mất cân bằng này là rất quan trọng. \n",
    "    Nếu bạn xây dựng một mô hình học máy (ví dụ: mô hình dự đoán loài chim dựa trên các số đo), \n",
    "    mô hình có thể có xu hướng dự đoán tốt hơn cho loài Adelie (vì có nhiều dữ liệu để học hơn) và kém hơn cho loài Chinstrap.\n",
    "    Tính hiệu quả: Biểu đồ này cực kỳ hiệu quả. \n",
    "    Chỉ cần nhìn qua, bạn có thể ngay lập tức nắm được thành phần của tập dữ liệu mà không cần phải đọc qua bảng số liệu. \n",
    "    Đây là một bước kiểm tra \"sức khỏe\" dữ liệu không thể thiếu."
   ]
  },
  {
   "cell_type": "code",
   "execution_count": null,
   "id": "0d01c35b",
   "metadata": {},
   "outputs": [],
   "source": [
    "# case 2: advanced"
   ]
  },
  {
   "cell_type": "code",
   "execution_count": null,
   "id": "59b1d776",
   "metadata": {},
   "outputs": [],
   "source": [
    "#  12 inch chiều rộng và 6 inch chiều cao\n",
    "plt.figure(figsize= (12,6))\n",
    "#  dùng hàm countplot của Seaborn để vẽ biểu đồ đếm tần suất cho cột species.\n",
    "ax = sns.countplot(data = penguins_data, x= penguins_data['species'])\n",
    "ax.set_xlabel('Penguin Species',fontsize = 15)\n",
    "ax.set_ylabel('Count of records',fontsize = 15)\n",
    "ax.set_title('Univariate analysis of Penguin Species')\n",
    "ax.set_title('Univariate analysis of Culmen Length', fontsize= 20)"
   ]
  },
  {
   "cell_type": "code",
   "execution_count": null,
   "id": "c89142cb",
   "metadata": {
    "vscode": {
     "languageId": "ini"
    }
   },
   "outputs": [],
   "source": [
    "1.Phân tích số liệu:\n",
    "    Loài Adelie: Là loài chiếm đa số trong tập dữ liệu với số lượng cao nhất (khoảng 152 cá thể).\n",
    "    Loài Gentoo: Đứng thứ hai về số lượng (khoảng 124 cá thể).\n",
    "    Loài Chinstrap: Là loài có số lượng ít nhất, chỉ bằng chưa đến một nửa so với loài Adelie (khoảng 68 cá thể).\n",
    "2.Đánh giá và Ý nghĩa:\n",
    "    Phát hiện sự mất cân bằng (Data Imbalance): Đây là phát hiện quan trọng nhất từ biểu đồ này. \n",
    "    Tập dữ liệu của bạn không cân bằng, với loài Adelie chiếm ưu thế và loài Chinstrap có ít đại diện hơn hẳn.\n",
    "\n",
    "    Tầm quan trọng: Việc nhận biết sự mất cân bằng này rất quan trọng cho các bước phân tích sau.\n",
    "    Ví dụ, nếu bạn xây dựng một mô hình dự đoán loài, \n",
    "    mô hình đó có thể hoạt động tốt với Adelie nhưng lại kém chính xác với Chinstrap do có ít dữ liệu để \"học\" hơn.\n",
    "\n",
    "    Tính chuyên nghiệp: So với một biểu đồ cơ bản, phiên bản này vượt trội hơn hẳn nhờ có tiêu đề,\n",
    "    nhãn trục rõ ràng và kích thước hợp lý. Nó truyền tải thông điệp một cách trực tiếp và chuyên nghiệp.\n",
    "3.Kết luận: \n",
    "    Đây là một bước phân tích khám phá dữ liệu (EDA) cơ bản nhưng vô cùng mạnh mẽ,\n",
    "    giúp bạn hiểu rõ hơn về thành phần cấu tạo nên tập dữ liệu của mình."
   ]
  },
  {
   "cell_type": "code",
   "execution_count": null,
   "id": "e32cedbc",
   "metadata": {},
   "outputs": [],
   "source": [
    "CẢI TIẾN"
   ]
  },
  {
   "cell_type": "code",
   "execution_count": null,
   "id": "bfe46006",
   "metadata": {},
   "outputs": [],
   "source": [
    "# --- Code để tạo lại biểu đồ một cách chính xác ---\n",
    "import pandas as pd\n",
    "import matplotlib.pyplot as plt\n",
    "import seaborn as sns\n",
    "\n",
    "# Tải và làm sạch dữ liệu\n",
    "file_path = r\"c:\\Users\\Ha\\Desktop\\PTDL\\tuan\\New folder\\penguins_size.csv\"\n",
    "penguins_data = pd.read_csv(file_path, na_values=['NA', '.'])\n",
    "penguins_data.dropna(subset=['species'], inplace=True) # Đảm bảo không có loài nào bị thiếu\n",
    "\n",
    "# --- Vẽ biểu đồ đã được cải tiến ---\n",
    "plt.figure(figsize=(12, 7)) # Tăng chiều cao một chút để có không gian cho chú thích\n",
    "\n",
    "# CẢI TIẾN CHÍNH: Thêm `hue='species'` để tự động tô màu và tạo chú thích\n",
    "# Thêm `dodge=False` để các cột không bị tách ra, giữ nguyên dạng biểu đồ gốc\n",
    "ax = sns.countplot(data=penguins_data, x='species', hue='species', dodge=False)\n",
    "\n",
    "# Tùy chỉnh nhãn và tiêu đề\n",
    "ax.set_xlabel('Penguin Species', fontsize=15)\n",
    "ax.set_ylabel('Count of Records', fontsize=15)\n",
    "ax.set_title('Univariate Analysis of Penguin Species', fontsize=20)\n",
    "\n",
    "# Thêm lưới để dễ đọc giá trị\n",
    "ax.grid(axis='y', linestyle='--', alpha=0.7)\n",
    "\n",
    "# Cải tiến thêm: Hiển thị số lượng cụ thể trên đỉnh mỗi cột\n",
    "for p in ax.patches:\n",
    "    ax.annotate(f'{int(p.get_height())}',           # Nội dung text (chiều cao của cột)\n",
    "                (p.get_x() + p.get_width() / 2., p.get_height()), # Vị trí (x, y)\n",
    "                ha = 'center', va = 'center',           # Căn lề\n",
    "                xytext = (0, 9),                        # Khoảng cách từ điểm neo đến text\n",
    "                textcoords = 'offset points',\n",
    "                fontsize=12)\n",
    "\n",
    "# Tùy chỉnh chú thích (legend)\n",
    "ax.legend(title='Species')\n",
    "\n",
    "plt.show()\n"
   ]
  },
  {
   "cell_type": "code",
   "execution_count": null,
   "id": "5083e4ab",
   "metadata": {
    "vscode": {
     "languageId": "ini"
    }
   },
   "outputs": [],
   "source": [
    "Phân tích những cải tiến\n",
    "1.hue='species': Đây là thay đổi quan trọng nhất. \n",
    "Bằng cách thêm tham số này, bạn yêu cầu Seaborn: \"Hãy nhìn vào cột species và tô một màu khác nhau cho mỗi giá trị duy nhất (Adelie, Chinstrap, Gentoo)\".\n",
    "Seaborn sẽ tự động làm hai việc:\n",
    "    Tô màu cho các cột.\n",
    "    Tạo một hộp chú thích (legend) để giải thích màu nào tương ứng với loài nào.\n",
    "2.dodge=False: Khi bạn dùng hue, mặc định Seaborn có thể cố gắng tách các cột ra để so sánh. Bằng cách đặt dodge=False, chúng ta yêu cầu nó giữ nguyên một cột duy nhất cho mỗi loài trên trục X, chỉ tô màu cho chúng.\n",
    "\n",
    "3.Thêm nhãn số liệu (Data Labels): Vòng lặp for p in ax.patches: \n",
    "    là một mẹo chuyên nghiệp để làm cho biểu đồ của bạn hữu ích hơn nữa. \n",
    "    Nó duyệt qua từng cột (patch) trên biểu đồ và viết chiều cao (số lượng) của cột đó ngay trên đỉnh, \n",
    "    giúp người xem không cần phải ước lượng giá trị từ trục Y.\n",
    "\n",
    "4.Biểu đồ kết quả sẽ trông như thế nào?\n",
    "    Biểu đồ mới sẽ có các cột được tô màu riêng biệt\n",
    "    (ví dụ: Adelie màu xanh, Chinstrap màu cam, Gentoo màu xanh lá), \n",
    "    và một hộp chú thích ở góc sẽ giải thích ý nghĩa của các màu đó. \n",
    "    Thêm vào đó, các con số chính xác (152, 68, 124) sẽ xuất hiện ngay trên đỉnh mỗi cột tương ứng.\n",
    "    Cách trình bày này không chỉ đẹp hơn mà còn truyền tải thông tin một cách đầy đủ và rõ ràng hơn rất nhiều!"
   ]
  },
  {
   "cell_type": "code",
   "execution_count": null,
   "id": "cb09117a",
   "metadata": {},
   "outputs": [],
   "source": [
    "4. Phân tích đơn biến bằng biểu đồ tròn (Pie-chart)\n"
   ]
  },
  {
   "cell_type": "code",
   "execution_count": null,
   "id": "250318c0",
   "metadata": {},
   "outputs": [],
   "source": [
    "penguins_group = penguins_data.groupby('species').count()\n",
    "penguins_group = penguins_group.reset_index()"
   ]
  },
  {
   "cell_type": "code",
   "execution_count": null,
   "id": "c43b6319",
   "metadata": {},
   "outputs": [],
   "source": [
    "# case 1: basic"
   ]
  },
  {
   "cell_type": "code",
   "execution_count": null,
   "id": "d4b75c27",
   "metadata": {},
   "outputs": [
    {
     "data": {
      "image/png": "[encoded data removed]",
      "text/plain": [
       "<Figure size 640x480 with 1 Axes>"
      ]
     },
     "metadata": {},
     "output_type": "display_data"
    }
   ],
   "source": [
    "plt.pie(penguins_group[\"culmen_length_mm\"], labels =penguins_group['species'])\n",
    "plt.show()"
   ]
  }
 ],
 "metadata": {
  "kernelspec": {
   "display_name": "base",
   "language": "python",
   "name": "python3"
  },
  "language_info": {
   "codemirror_mode": {
    "name": "ipython",
    "version": 3
   },
   "file_extension": ".py",
   "mimetype": "text/x-python",
   "name": "python",
   "nbconvert_exporter": "python",
   "pygments_lexer": "ipython3",
   "version": "3.13.5"
  }
 },
 "nbformat": 4,
 "nbformat_minor": 5
}
