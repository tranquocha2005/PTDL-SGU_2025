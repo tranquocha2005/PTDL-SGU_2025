{
  "cells": [
    {
      "cell_type": "markdown",
      "id": "tPdNyxZ-9xD6",
      "metadata": {
        "id": "tPdNyxZ-9xD6"
      },
      "source": [
        "# Phân tích đơn biến và hai biến\n"
      ]
    },
    {
      "cell_type": "markdown",
      "id": "7xOQTkuq924D",
      "metadata": {
        "id": "7xOQTkuq924D"
      },
      "source": [
        "##Bài toán 1:"
      ]
    },
    {
      "cell_type": "markdown",
      "id": "XpivsQOV-Ivd",
      "metadata": {
        "id": "XpivsQOV-Ivd"
      },
      "source": [
        "###Nhiệm vụ 1: phân tích dữ liệu đơn biến trên dữ liệu về chim cánh cụt"
      ]
    },
    {
      "cell_type": "markdown",
      "id": "uBLCr1Hj-Ohp",
      "metadata": {
        "id": "uBLCr1Hj-Ohp"
      },
      "source": [
        "####1.1.Import thư viện và nạp dữ liệu"
      ]
    },
    {
      "cell_type": "code",
      "execution_count": 2,
      "id": "dab2b140",
      "metadata": {
        "id": "dab2b140"
      },
      "outputs": [],
      "source": [
        "\n",
        "# Nhập thư viện pandas để xử lý dữ liệu, thường được viết tắt là pd\n",
        "import pandas as pd\n",
        "# Nhập thư viện matplotlib.pyplot để vẽ các biểu đồ cơ bản, viết tắt là plt\n",
        "import matplotlib.pyplot as plt\n",
        "# Nhập thư viện seaborn để vẽ các biểu đồ thống kê đẹp mắt hơn, viết tắt là sns\n",
        "import seaborn as sns\n",
        "# gọi là DataFrame có tên là penguins_data.\n",
        "penguins_data = pd.read_csv(\"penguins_size.csv\")\n",
        "# Ghi đè lên DataFrame cũ bằng một DataFrame mới.\n",
        "# DataFrame mới này chỉ chứa hai cột là 'species' (loài) và 'culmen_length_mm' (độ dài mỏ).\n",
        "# Việc này giúp tập trung vào dữ liệu cần thiết cho các phân tích tiếp theo.\n",
        "penguins_data = penguins_data[['species','culmen_length_mm']]\n"
      ]
    },
    {
      "cell_type": "markdown",
      "id": "SFwakj9p-XQq",
      "metadata": {
        "id": "SFwakj9p-XQq"
      },
      "source": [
        "####1.2.Phân tích đơn biến bằng Histogram"
      ]
    },
    {
      "cell_type": "code",
      "execution_count": 3,
      "id": "171d45e3",
      "metadata": {
        "id": "171d45e3",
        "outputId": "09d03bba-8235-4eb9-df30-a4c6c74debc0"
      },
      "outputs": [
        {
          "data": {
            "text/plain": [
              "<Axes: xlabel='culmen_length_mm', ylabel='Count'>"
            ]
          },
          "execution_count": 3,
          "metadata": {},
          "output_type": "execute_result"
        },
        {
          "data": {
            "image/png": "[encoded data removed]",
            "text/plain": [
              "<Figure size 640x480 with 1 Axes>"
            ]
          },
          "metadata": {},
          "output_type": "display_data"
        }
      ],
      "source": [
        "# case 1: basic\n",
        "sns.histplot( data = penguins_data, x= penguins_data[\"culmen_length_mm\"])"
      ]
    },
    {
      "cell_type": "code",
      "execution_count": null,
      "id": "e6dbe137",
      "metadata": {
        "id": "e6dbe137"
      },
      "outputs": [],
      "source": [
        "Nhận xét chi tiết về biểu đồ\n",
        "Loại biểu đồ và mục đích: Đây là biểu đồ tần suất (histogram), dùng để thể hiện sự phân bố của một biến số liên tục. Trong trường hợp này,\n",
        "    nó cho thấy có bao nhiêu con chim cánh cụt tương ứng với mỗi khoảng độ dài mỏ (culmen_length_mm).\n",
        "Đặc điểm nổi bật nhất: Phân bố hai đỉnh (Bimodal Distribution)\n",
        "    Thay vì có dạng hình chuông đối xứng (phân bố chuẩn) với một đỉnh duy nhất ở giữa, biểu đồ này có hai đỉnh rõ rệt.\n",
        "    Đỉnh thứ nhất (bên trái): Đây chủ yếu là các con chim cánh cụt loài Adelie.\n",
        "    Tập trung quanh giá trị 38-40 mm. Đây là nhóm có số lượng (count) cao nhất.\n",
        "    Đỉnh thứ hai (bên phải): Đây chủ yếu là các con chim cánh cụt loài Gentoo.\n",
        "    Tập trung quanh giá trị 47-50 mm. Nhóm này có số lượng ít hơn nhóm đầu tiên.\n",
        "    Giữa hai đỉnh này là một \"thung lũng\" (vùng có tần suất thấp) ở khoảng 43-45 mm, cho thấy sự tách biệt tương đối giữa hai nhóm.\n",
        "Đánh giá và Ý nghĩa\n",
        "Sự tồn tại của hai đỉnh là phát hiện quan trọng nhất từ biểu đồ này. Nó cho chúng ta biết điều gì?\n",
        "    Dữ liệu không đồng nhất: Phân bố hai đỉnh là một dấu hiệu mạnh mẽ\n",
        "    cho thấy tập dữ liệu bạn đang xem không phải là một khối đồng nhất.\n",
        "    Thay vào đó, nó được tạo thành từ ít nhất hai nhóm con (sub-groups) có đặc điểm khác nhau rõ rệt.\n",
        "    Đỉnh bên trái (mỏ ngắn hơn) chủ yếu được tạo thành từ loài Adelie.\n",
        "    Đỉnh bên phải (mỏ dài hơn) chủ yếu được tạo thành từ loài Gentoo.\n",
        "    Loài Chinstrap có độ dài mỏ nằm ở khoảng giữa và góp phần vào hình dạng chung của cả hai đỉnh.\n",
        "Kết luận đánh giá:\n",
        "    Điểm mạnh: Biểu đồ này là một công cụ phân tích khám phá dữ liệu (Exploratory Data Analysis - EDA) xuất sắc.\n",
        "    Chỉ với một dòng code, nó đã giúp bạn phát hiện ra một cấu trúc tiềm ẩn quan trọng trong dữ liệu mà nếu chỉ nhìn vào các con số thống kê như giá trị trung bình (mean) sẽ không thể thấy được.\n",
        "    Hạn chế/Bước tiếp theo: Biểu đồ này cho thấy có các nhóm, nhưng không cho biết đó là nhóm nào.\n",
        "    Do đó, bước phân tích hợp lý tiếp theo là phải tách dữ liệu ra theo từng loài để xác nhận giả thuyết trên."
      ]
    },
    {
      "cell_type": "code",
      "execution_count": null,
      "id": "fa56e397",
      "metadata": {
        "id": "fa56e397"
      },
      "outputs": [],
      "source": [
        "2. Phân tích đơn biến bằng Histogram"
      ]
    },
    {
      "cell_type": "code",
      "execution_count": null,
      "id": "aecce7fc",
      "metadata": {
        "id": "aecce7fc",
        "outputId": "f0a0633f-c683-4fbd-ca08-89efedb2e33d"
      },
      "outputs": [],
      "source": [
        "# case 2: advanced\n",
        "plt.figure(figsize= (12,6))\n",
        "ax = sns.histplot( data = penguins_data, x=penguins_data[\"culmen_length_mm\"])\n",
        "ax.set_xlabel('Culmen Length in mm',fontsize = 15)\n",
        "ax.set_ylabel('Count of records', fontsize = 15)\n",
        "ax.set_title('Univariate analysis of Culmen Length',fontsize= 20)"
      ]
    },
    {
      "cell_type": "code",
      "execution_count": null,
      "id": "38bedee6",
      "metadata": {
        "id": "38bedee6"
      },
      "outputs": [],
      "source": [
        "1. \"Băng đảng mỏ ngắn\" (Loài Adelie)\n",
        "Đặc điểm: Mỏ ngắn, khỏe, đa dụng.\n",
        "Tại sao? Mỏ của loài Adelie giống như một chiếc \"kìm đa năng\". Nó đủ khỏe để bắt nhiều loại thức ăn khác nhau, chủ yếu là các loài nhuyễn thể (krill) nhỏ và một số loại cá nhỏ. Cấu trúc này giúp chúng rất linh hoạt trong việc tìm kiếm thức ăn ở các vùng nước nông. Chúng là những kẻ \"sống sót\" tài ba, không quá chuyên biệt nhưng rất hiệu quả.\n",
        "2. \"Băng đảng mỏ dài\" (Loài Gentoo và Chinstrap)\n",
        "Đặc điểm: Mỏ dài và thanh mảnh hơn.\n",
        "Tại sao? Mỏ của chúng giống như những chiếc \"gắp chuyên dụng\".\n",
        "Loài Gentoo: Chúng là những tay thợ lặn cừ khôi, thường săn mồi ở vùng nước sâu hơn. Một chiếc mỏ dài giúp chúng có thể vươn xa hơn để đớp những con cá hoặc mực bơi nhanh hơn, những con mồi mà loài Adelie khó bắt được.\n",
        "Loài Chinstrap: Chúng cũng ăn nhuyễn thể (krill) nhưng chiếc mỏ dài và mảnh có thể giúp chúng lọc hiệu quả hơn một lượng lớn krill nhỏ ra khỏi nước.\n",
        "\n",
        "Biểu đồ được tạo ra từ đoạn code này về mặt dữ liệu thì giống hệt biểu đồ trước, nhưng được trình bày đẹp hơn.\n",
        "Biểu đồ kết quả:\n",
        "Nhận xét và Đánh giá:\n",
        "Phân tích của chúng ta vẫn tập trung vào đặc điểm cốt lõi của dữ liệu được biểu diễn:\n",
        "1.Đặc điểm nổi bật nhất: Phân bố hai đỉnh (Bimodal Distribution)\n",
        "    Biểu đồ này một lần nữa cho thấy rõ ràng sự tồn tại của hai đỉnh (hai cụm dữ liệu chính),\n",
        "    thay vì một đỉnh trung tâm duy nhất. Đây là phát hiện quan trọng nhất.\n",
        "    Đỉnh 1 (bên trái): Một nhóm lớn các con chim cánh cụt có độ dài mỏ tập trung quanh 38-40 mm.\n",
        "    Đỉnh 2 (bên phải): Một nhóm khác, nhỏ hơn, có độ dài mỏ tập trung quanh 47-50 mm.\n",
        "    \"Thung lũng\" ở giữa: Vùng tần suất thấp ở khoảng 43-45 mm hoạt động như một ranh giới tự nhiên, củng cố thêm ý tưởng rằng đây là hai nhóm riêng biệt.\n",
        "2.Ý nghĩa và Suy luận:\n",
        "    Như đã phân tích ở lần trước, hình dạng hai đỉnh này là một \"manh mối\" mạnh mẽ\n",
        "    cho thấy bạn đang phân tích dữ liệu của nhiều nhóm gộp lại. Trong trường hợp này, đó là 3 loài chim cánh cụt khác nhau.\n",
        "    Đỉnh bên trái (mỏ ngắn) chủ yếu là loài Adelie.\n",
        "    Đỉnh bên phải (mỏ dài) chủ yếu là loài Gentoo.\n",
        "3.Đánh giá về mặt trình bày:\n",
        "    Rất tốt: So với biểu đồ cơ bản, biểu đồ này vượt trội hơn hẳn.\n",
        "    Tiêu đề rõ ràng (Univariate analysis of Culmen Length), các trục được dán nhãn cụ thể (Culmen Length in mm, Count of records), và kích thước phông chữ hợp lý giúp người xem nắm bắt thông tin nhanh chóng và chính xác. Đây là một ví dụ điển hình về cách trình bày dữ liệu một cách hiệu quả."
      ]
    },
    {
      "cell_type": "code",
      "execution_count": null,
      "id": "aa979cbf",
      "metadata": {
        "id": "aa979cbf"
      },
      "outputs": [],
      "source": [
        "CẢI TIẾN"
      ]
    },
    {
      "cell_type": "code",
      "execution_count": null,
      "id": "eefe18db",
      "metadata": {
        "id": "eefe18db"
      },
      "outputs": [],
      "source": [
        "# --- Bước 1: Nhập thư viện ---\n",
        "import pandas as pd\n",
        "import matplotlib.pyplot as plt\n",
        "import seaborn as sns\n",
        "\n",
        "# --- Bước 2: Tải và làm sạch dữ liệu một cách cẩn thận ---\n",
        "# Ghi chú: File CSV của bạn có các giá trị \"NA\" và \".\" đại diện cho dữ liệu thiếu.\n",
        "# Chúng ta cần chỉ cho pandas biết điều này khi đọc file.\n",
        "penguins_data_full = pd.read_csv(\n",
        "    \"c:\\\\Users\\\\Ha\\\\Desktop\\\\PTDL\\\\tuan\\\\New folder\\\\penguins_size.csv\",\n",
        "    na_values=['NA', '.']\n",
        ")\n",
        "\n",
        "# Loại bỏ tất cả các hàng có chứa bất kỳ giá trị thiếu nào để đảm bảo phân tích chính xác\n",
        "penguins_data_full.dropna(inplace=True)\n",
        "\n",
        "\n",
        "# --- Bước 3: Vẽ biểu đồ để \"nhìn thấy\" hai đỉnh ---\n",
        "# Thiết lập kích thước biểu đồ cho dễ nhìn\n",
        "plt.figure(figsize=(12, 7))\n",
        "\n",
        "# Vẽ biểu đồ histogram, nhưng lần này dùng `hue=\"species\"` để tô màu cho từng loài.\n",
        "# Thêm `kde=True` để vẽ một đường cong ước tính mật độ, giúp nhìn các đỉnh dễ hơn.\n",
        "sns.histplot(data=penguins_data_full, x=\"culmen_length_mm\", hue=\"species\", kde=True)\n",
        "\n",
        "# Thêm các nhãn và tiêu đề cho rõ ràng\n",
        "plt.title(\"Phân bố độ dài mỏ theo từng loài (Làm rõ 'Hai Đỉnh')\", fontsize=16)\n",
        "plt.xlabel(\"Độ dài mỏ (mm)\", fontsize=12)\n",
        "plt.ylabel(\"Số lượng (Count)\", fontsize=12)\n",
        "plt.grid(axis='y', linestyle='--', alpha=0.7) # Thêm lưới ngang để dễ so sánh chiều cao\n",
        "\n",
        "# Hiển thị biểu đồ\n",
        "plt.show()\n"
      ]
    },
    {
      "cell_type": "markdown",
      "id": "eHbTjCmW-peO",
      "metadata": {
        "id": "eHbTjCmW-peO"
      },
      "source": [
        "####1.3. Phân tích đơn biến bằng bar chart"
      ]
    },
    {
      "cell_type": "code",
      "execution_count": null,
      "id": "131acd93",
      "metadata": {
        "id": "131acd93"
      },
      "outputs": [],
      "source": [
        "# case 1: basic"
      ]
    },
    {
      "cell_type": "code",
      "execution_count": null,
      "id": "8ae9f8f8",
      "metadata": {
        "id": "8ae9f8f8",
        "outputId": "cc335bb2-2ea4-4a36-a981-a4e2e1d97d14"
      },
      "outputs": [],
      "source": [
        "# sns.countplot(...): Đây là một hàm từ thư viện Seaborn\n",
        "sns.countplot(data = penguins_data, x= penguins_data['species'])"
      ]
    },
    {
      "cell_type": "code",
      "execution_count": null,
      "id": "4f9781b6",
      "metadata": {
        "id": "4f9781b6"
      },
      "outputs": [],
      "source": [
        "Phân tích số liệu:\n",
        "    Loài Adelie: Là loài có số lượng đông đảo nhất trong tập dữ liệu,\n",
        "    với khoảng 152 cá thể. Cột của Adelie là cao nhất.\n",
        "    Loài Gentoo: Là loài có số lượng đứng thứ hai, với khoảng 124 cá thể.\n",
        "    Loài Chinstrap: Là loài có số lượng ít nhất, với chỉ khoảng 68 cá thể.\n",
        "Đánh giá và Ý nghĩa:\n",
        "    Mất cân bằng dữ liệu (Data Imbalance): Biểu đồ này cho thấy một sự mất cân bằng nhẹ trong tập dữ liệu.\n",
        "    Số lượng cá thể của loài Adelie nhiều hơn gấp đôi so với loài Chinstrap.\n",
        "    Tác động đến phân tích: Việc biết được sự mất cân bằng này là rất quan trọng.\n",
        "    Nếu bạn xây dựng một mô hình học máy (ví dụ: mô hình dự đoán loài chim dựa trên các số đo),\n",
        "    mô hình có thể có xu hướng dự đoán tốt hơn cho loài Adelie (vì có nhiều dữ liệu để học hơn) và kém hơn cho loài Chinstrap.\n",
        "    Tính hiệu quả: Biểu đồ này cực kỳ hiệu quả.\n",
        "    Chỉ cần nhìn qua, bạn có thể ngay lập tức nắm được thành phần của tập dữ liệu mà không cần phải đọc qua bảng số liệu.\n",
        "    Đây là một bước kiểm tra \"sức khỏe\" dữ liệu không thể thiếu."
      ]
    },
    {
      "cell_type": "code",
      "execution_count": null,
      "id": "0d01c35b",
      "metadata": {
        "id": "0d01c35b"
      },
      "outputs": [],
      "source": [
        "# case 2: advanced"
      ]
    },
    {
      "cell_type": "code",
      "execution_count": null,
      "id": "59b1d776",
      "metadata": {
        "id": "59b1d776",
        "outputId": "b45a3d32-2914-41ba-8a89-d4b939795eeb"
      },
      "outputs": [],
      "source": [
        "#  12 inch chiều rộng và 6 inch chiều cao\n",
        "plt.figure(figsize= (12,6))\n",
        "#  dùng hàm countplot của Seaborn để vẽ biểu đồ đếm tần suất cho cột species.\n",
        "ax = sns.countplot(data = penguins_data, x= penguins_data['species'])\n",
        "ax.set_xlabel('Penguin Species',fontsize = 15)\n",
        "ax.set_ylabel('Count of records',fontsize = 15)\n",
        "ax.set_title('Univariate analysis of Penguin Species')\n",
        "ax.set_title('Univariate analysis of Culmen Length', fontsize= 20)"
      ]
    },
    {
      "cell_type": "code",
      "execution_count": null,
      "id": "c89142cb",
      "metadata": {
        "id": "c89142cb"
      },
      "outputs": [],
      "source": [
        "\n",
        "Sự phân bố tự nhiên: Trong khu vực nghiên cứu,quần thể loài Adelie có thể vốn dĩ đã đông đúc hơn và sống ở nhiều nơi hơn.\n",
        "Ngược lại, loài Chinstrap có thể hiếm hơn hoặc chỉ tập trung ở một vài địa điểm nhất định.\n",
        "1.Phân tích số liệu:\n",
        "    Loài Adelie: Là loài chiếm đa số trong tập dữ liệu với số lượng cao nhất (khoảng 152 cá thể).\n",
        "    Loài Gentoo: Đứng thứ hai về số lượng (khoảng 124 cá thể).\n",
        "    Loài Chinstrap: Là loài có số lượng ít nhất, chỉ bằng chưa đến một nửa so với loài Adelie (khoảng 68 cá thể).\n",
        "2.Đánh giá và Ý nghĩa:\n",
        "    Phát hiện sự mất cân bằng (Data Imbalance): Đây là phát hiện quan trọng nhất từ biểu đồ này.\n",
        "    Tập dữ liệu của bạn không cân bằng, với loài Adelie chiếm ưu thế và loài Chinstrap có ít đại diện hơn hẳn.\n",
        "\n",
        "    Tầm quan trọng: Việc nhận biết sự mất cân bằng này rất quan trọng cho các bước phân tích sau.\n",
        "    Ví dụ, nếu bạn xây dựng một mô hình dự đoán loài,\n",
        "    mô hình đó có thể hoạt động tốt với Adelie nhưng lại kém chính xác với Chinstrap do có ít dữ liệu để \"học\" hơn.\n",
        "\n",
        "    Tính chuyên nghiệp: So với một biểu đồ cơ bản, phiên bản này vượt trội hơn hẳn nhờ có tiêu đề,\n",
        "    nhãn trục rõ ràng và kích thước hợp lý. Nó truyền tải thông điệp một cách trực tiếp và chuyên nghiệp.\n",
        "3.Kết luận:\n",
        "    Đây là một bước phân tích khám phá dữ liệu (EDA) cơ bản nhưng vô cùng mạnh mẽ,\n",
        "    giúp bạn hiểu rõ hơn về thành phần cấu tạo nên tập dữ liệu của mình."
      ]
    },
    {
      "cell_type": "markdown",
      "id": "prV7iP8r-5ho",
      "metadata": {
        "id": "prV7iP8r-5ho"
      },
      "source": [
        "####1.4. Phân tích đơn biến bằng biểu đồ tròn (Pie-chart)"
      ]
    },
    {
      "cell_type": "code",
      "execution_count": null,
      "id": "250318c0",
      "metadata": {
        "id": "250318c0"
      },
      "outputs": [],
      "source": [
        "#  nhóm tất cả các hàng có cùng giá trị trong cột species lại với nhau\n",
        "penguins_group = penguins_data.groupby('species').count()\n",
        "penguins_group = penguins_group.reset_index()"
      ]
    },
    {
      "cell_type": "code",
      "execution_count": null,
      "id": "c43b6319",
      "metadata": {
        "id": "c43b6319"
      },
      "outputs": [],
      "source": [
        "# case 1: basic"
      ]
    },
    {
      "cell_type": "code",
      "execution_count": null,
      "id": "d4b75c27",
      "metadata": {
        "id": "d4b75c27",
        "outputId": "41d7ee85-07f8-4b77-9b30-ead0a4635db5"
      },
      "outputs": [],
      "source": [
        "plt.pie(penguins_group[\"culmen_length_mm\"], labels =penguins_group['species'])\n",
        "plt.show()"
      ]
    },
    {
      "cell_type": "code",
      "execution_count": null,
      "id": "61ddf48e",
      "metadata": {
        "id": "61ddf48e"
      },
      "outputs": [],
      "source": [
        "Nhận xét:\n",
        "1.Loại biểu đồ: Đây là biểu đồ tròn (pie chart),\n",
        "một công cụ trực quan dùng để thể hiện cơ cấu hoặc tỷ lệ phần trăm của các thành phần trong một tổng thể.\n",
        "2.Nội dung: Biểu đồ này cho thấy sự phân bố tỷ lệ của ba loài chim cánh cụt (Adelie, Gentoo, và Chinstrap)\n",
        "trong toàn bộ tập dữ liệu. Mỗi \"miếng bánh\" đại diện cho một loài.\n",
        "3.Số liệu chi tiết:\n",
        "    Adelie: Chiếm miếng bánh lớn nhất với 44.1%, cho thấy đây là loài phổ biến nhất trong dữ liệu.\n",
        "    Gentoo: Là miếng bánh lớn thứ hai, chiếm 35.9%.\n",
        "    Chinstrap: Chiếm miếng bánh nhỏ nhất, chỉ 20.0% (bằng khoảng một nửa so với Adelie)."
      ]
    },
    {
      "cell_type": "code",
      "execution_count": null,
      "id": "0d6de286",
      "metadata": {
        "id": "0d6de286"
      },
      "outputs": [],
      "source": [
        "Phát hiện quan trọng:\n",
        "Biểu đồ này làm nổi bật rõ ràng sự mất cân bằng dữ liệu (data imbalance).\n",
        "Số lượng cá thể của loài Adelie gần như gấp đôi loài Chinstrap.\n",
        "Đây là một thông tin cực kỳ quan trọng cần lưu ý cho các bước phân tích sâu hơn,\n",
        "đặc biệt là khi xây dựng các mô hình dự đoán, vì mô hình có thể học tốt hơn về loài Adelie do có nhiều dữ liệu hơn.\n",
        "Nhìn vào khá thô sơ nên chưa bộc lộ chi tiết."
      ]
    },
    {
      "cell_type": "code",
      "execution_count": null,
      "id": "aa4b1af4",
      "metadata": {
        "id": "aa4b1af4"
      },
      "outputs": [],
      "source": [
        "# case 2: advanced"
      ]
    },
    {
      "cell_type": "code",
      "execution_count": null,
      "id": "08cbf7b5",
      "metadata": {
        "id": "08cbf7b5",
        "outputId": "02714a44-9588-48d6-d658-6596f0f6d7d1"
      },
      "outputs": [],
      "source": [
        "plt.pie(penguins_group[\"culmen_length_mm\"], labels =penguins_group['species'],colors = cols)\n",
        "plt.title('Univariate Analysis of Species', fontsize=15)\n",
        "plt.show()"
      ]
    },
    {
      "cell_type": "code",
      "execution_count": null,
      "id": "e00aa00e",
      "metadata": {
        "id": "e00aa00e"
      },
      "outputs": [],
      "source": [
        "Biểu đồ này làm nổi bật một đặc điểm quan trọng của tập dữ liệu: sự mất cân bằng (data imbalance)\n",
        "Dữ liệu không được phân bổ đều giữa các loài.\n",
        "\"Cư dân\" đông đúc nhất (Adelie): Loài Adelie giống như những cư dân \"dễ tính\" nhất.\n",
        "Chúng có thể sống ở bất kỳ hòn đảo nào trong ba hòn đảo được khảo sát. Vì họ có mặt ở khắp nơi,\n",
        "tổng số lượng của chúng trở nên đông đảo nhất, và Chúng nhận được phần bánh lớn nhất.\n",
        "\n",
        "\"Biệt đội\" hùng mạnh (Gentoo): Loài Gentoo thì khác. Chúng không sống rải rác.\n",
        "Thay vào đó, chúng tập trung lại thành một \"biệt đội\" cực kỳ đông và hùng mạnh trên một hòn đảo duy nhất (đảo Biscoe).\n",
        "Số lượng lớn ở một nơi giúp chúng có được phần bánh lớn thứ hai.\n",
        "\n",
        "\"hiếm có\" (Chinstrap): Giống như Gentoo, loài Chinstrap cũng chỉ được tìm thấy trên một hòn đảo (đảo Dream).\n",
        "Tuy nhiên, \"dân số\" của chúng ở đó ít hơn hẳn. Vì vậy, chúng là nhóm hiếm gặp nhất trong cuộc khảo sát này và nhận được phần bánh nhỏ nhất.\n",
        "\n",
        "Tại sao lại có sự biến động (mất cân bằng) này?\n",
        "    Môi trường sống: Các loài chim cánh cụt khác nhau có thể ưa thích các điều kiện sống hoặc các hòn đảo khác nhau.\n",
        "    Trong tập dữ liệu này, dữ liệu được thu thập từ 3 hòn đảo: Torgersen, Biscoe, và Dream.\n",
        "    Số lượng quần thể: Rất có thể trong tự nhiên tại khu vực nghiên cứu (quần đảo Palmer, Nam Cực), quần thể loài Adelie vốn dĩ đã đông hơn so với loài Chinstrap.\n",
        "    Biểu đồ chỉ đơn giản là phản ánh lại thực tế sinh thái đó."
      ]
    },
    {
      "cell_type": "markdown",
      "id": "TWeIRsU1_DeF",
      "metadata": {
        "id": "TWeIRsU1_DeF"
      },
      "source": [
        "###Nhiệm vụ 2: Phân tích dữ liệu đơn biến trên dữ liệu giá nhà lấy từ"
      ]
    },
    {
      "cell_type": "markdown",
      "id": "NQk_9xLX_I6G",
      "metadata": {
        "id": "NQk_9xLX_I6G"
      },
      "source": [
        "###2.1. Import thư viện, nạp dữ liệu giá nhà và phân tích đơn biến dựa vào boxplot"
      ]
    },
    {
      "cell_type": "code",
      "execution_count": null,
      "id": "bc2dd673",
      "metadata": {
        "id": "bc2dd673"
      },
      "outputs": [],
      "source": [
        "import pandas as pd\n",
        "import matplotlib.pyplot as plt\n",
        "import seaborn as sns\n",
        "houseprices_data = pd.read_csv(\"HousingPricesData.csv\")\n",
        "houseprices_data = houseprices_data[['Zip','Price','Area','Room']]"
      ]
    },
    {
      "cell_type": "code",
      "execution_count": null,
      "id": "7f3d7d48",
      "metadata": {
        "id": "7f3d7d48",
        "outputId": "d48142a9-7075-4365-9b3d-53f624793915"
      },
      "outputs": [],
      "source": [
        "# case 1: Create a boxplot using the boxplot method\n",
        "sns.boxplot(data = houseprices_data, x= houseprices_data[\"Price\"])"
      ]
    },
    {
      "cell_type": "code",
      "execution_count": null,
      "id": "5c9441f1",
      "metadata": {
        "id": "5c9441f1",
        "outputId": "5d4a5584-f6e2-422d-d1c9-205277724b99"
      },
      "outputs": [],
      "source": [
        "plt.figure(figsize= (12,6))\n",
        "ax = sns.boxplot(data = houseprices_data, x= houseprices_data[\"Price\"])\n",
        "ax.set_xlabel('House Prices in millions',fontsize = 15)\n",
        "ax.set_title('Univariate analysis of House Prices', fontsize= 20)\n",
        "plt.ticklabel_format(style='plain', axis='x')"
      ]
    },
    {
      "cell_type": "code",
      "execution_count": null,
      "id": "db31ffce",
      "metadata": {
        "id": "db31ffce"
      },
      "outputs": [],
      "source": [
        "Chiếc Hộp Màu Xanh:\n",
        "    Bây giờ bạn có thể thấy rõ: chiếc hộp này nằm ngay trên khu vực có nhiều dấu chấm nhất.\n",
        "    Nó đang tóm tắt lại khoảng giá của 50% số nhà phổ biến nhất.\n",
        "    Đường kẻ màu đen trong hộp xanh (trung vị) nằm ở giữa hộp, chia đôi số lượng các dấu chấm con số đại diện trung thực nhất cho giá nhà\n",
        "Các Dấu Chấm Màu Cam (Hình thoi):\n",
        "    Đây là các điểm ngoại lai (outliers).\n",
        "    Nhìn vào biểu đồ, bạn có thể thấy chúng là những dấu chấm nằm trơ trọi,\n",
        "    rất xa so với đám đông dày đặc bên trái. Đây chính là những căn nhà siêu đắt."
      ]
    },
    {
      "cell_type": "code",
      "execution_count": null,
      "id": "1c169668",
      "metadata": {
        "id": "1c169668"
      },
      "outputs": [],
      "source": [
        "1.Diện tích (Area)\n",
        "    Rất đơn giản, nhà càng to thì càng đắt.\n",
        "    Một căn hộ studio 30m² sẽ có giá thấp.\n",
        "    Một căn biệt thự 300m² với sân vườn sẽ có giá cao ngất ngưởng và trở thành một điểm ngoại lai (outlier) trên biểu đồ.\n",
        "2.Loại hình và Tình trạng nhà\n",
        "    Loại hình: Một căn hộ chung cư sẽ rẻ hơn một căn nhà riêng ven kênh (canal house) dù có cùng diện tích. Những căn nhà ven kênh độc đáo này thường là các điểm ngoại lai đắt giá.\n",
        "    Tình trạng: Một căn nhà mới xây, nội thất hiện đại sẽ đắt hơn một căn nhà cũ cần sửa chữa nhiều.\n",
        "3. Các yếu tố khác\n",
        "    Số phòng ngủ (Room): Càng nhiều phòng thì giá thường càng cao.\n",
        "    Tiện ích xung quanh: Gần ga tàu, trường học, công viên cũng làm tăng giá trị."
      ]
    },
    {
      "cell_type": "markdown",
      "id": "yUk-4CCm_Qgn",
      "metadata": {
        "id": "yUk-4CCm_Qgn"
      },
      "source": [
        "###2.2. Phân tích dữ liệu đơn biến dựa vào violin plot"
      ]
    },
    {
      "cell_type": "code",
      "execution_count": null,
      "id": "709421e7",
      "metadata": {
        "id": "709421e7",
        "outputId": "cf957ad1-3f5e-4187-a2c1-232d2cee2f56"
      },
      "outputs": [],
      "source": [
        "# case 1: basic\n",
        "sns.violinplot(data = houseprices_data, x= houseprices_data[\"Price\"])\n",
        "# case 2: advanced\n",
        "plt.figure(figsize= (12,6))\n",
        "ax = sns.violinplot(data = houseprices_data, x=houseprices_data[\"Price\"])\n",
        "ax.set_xlabel('House Prices in millions',fontsize = 15)\n",
        "ax.set_title('Univariate analysis of House Prices', fontsize= 20)\n",
        "plt.ticklabel_format(style='plain', axis='x')"
      ]
    },
    {
      "cell_type": "code",
      "execution_count": null,
      "id": "cb97695b",
      "metadata": {
        "id": "cb97695b"
      },
      "outputs": [],
      "source": [
        "Ý nghĩa: Phần thân phình to hay thu hẹp của \"cây đàn\" cho bạn biết mật độ của giá nhà.\n",
        "    Chỗ phình to nhất: Đây là khu vực có nhiều ngôi nhà nhất. Giá nhà tập trung đông đúc và dày đặc ở khoảng này.\n",
        "    Chỗ thu hẹp (cái đuôi dài): Đây là khu vực có rất ít ngôi nhà. Các mức giá ở đây hiếm gặp hơn.\n",
        "Phân tích trên biểu đồ :\n",
        "    Bạn có thể thấy phần thân đàn rất rộng ở phía bên trái (khu vực giá thấp).\n",
        "    Điều này khẳng định rằng: Đa số các ngôi nhà trong bộ dữ liệu có giá ở mức vừa phải.\n",
        "    Cây đàn có một cái đuôi rất dài và mỏng kéo về phía bên phải. Điều này cho thấy có một số ít những ngôi nhà có giá cực kỳ cao, và chúng nằm rải rác ở một khoảng giá rất rộng. Đây chính là các điểm ngoại lai (outliers) mà chúng ta đã thấy ở biểu đồ hộp."
      ]
    },
    {
      "cell_type": "code",
      "execution_count": null,
      "id": "e90c968a",
      "metadata": {
        "id": "e90c968a"
      },
      "outputs": [],
      "source": [
        "Dấu chấm trắng (White Dot): Đây chính là đường trung vị (Median).\n",
        "Nó cho bạn biết mức giá ở chính giữa, nơi 50% số nhà rẻ hơn và 50% đắt hơn.\n",
        "Thanh màu đen dày (Thick Black Bar): Đây là khoảng tứ phân vị (IQR), tương ứng với \"chiếc hộp\" trong boxplot. Nó chứa 50% số nhà có giá phổ biến nhất.\n",
        "Đường kẻ đen mỏng (Thin Black Line): Đây là \"râu\" của biểu đồ hộp, thể hiện phạm vi giá của các ngôi nhà \"bình thường\"."
      ]
    },
    {
      "cell_type": "code",
      "execution_count": null,
      "id": "6ad8e48e",
      "metadata": {
        "id": "6ad8e48e"
      },
      "outputs": [],
      "source": [
        "Biểu đồ Violin cung cấp một cái nhìn sâu sắc hơn so với biểu đồ hộp:\n",
        "    Phân phối không đối xứng: Giá nhà bị lệch hẳn về bên phải (right-skewed). Điều này rất rõ ràng nhờ hình dáng của cây đàn.\n",
        "    Sự tập trung: Giá nhà tập trung dày đặc ở một khoảng giá thấp (phần phình to nhất).\n",
        "    Sự tồn tại của các giá trị ngoại lai: Cái đuôi dài và mỏng về bên\n",
        "    phải cho thấy sự tồn tại của những căn nhà siêu đắt, nhưng số lượng của chúng không nhiều."
      ]
    },
    {
      "cell_type": "markdown",
      "id": "epf2caHI_c8n",
      "metadata": {
        "id": "epf2caHI_c8n"
      },
      "source": [
        "###2.3. Phân tích dữ liệu đơn biến dựa vào bản tóm tắt dữ liệu"
      ]
    },
    {
      "cell_type": "code",
      "execution_count": null,
      "id": "732008f5",
      "metadata": {
        "id": "732008f5",
        "outputId": "9428aa80-17be-4987-e14f-96d979b02c48"
      },
      "outputs": [],
      "source": [
        "houseprices_data.describe()"
      ]
    },
    {
      "cell_type": "code",
      "execution_count": null,
      "id": "d4a01c69",
      "metadata": {
        "id": "d4a01c69"
      },
      "outputs": [],
      "source": [
        "count (Số lượng): Đếm số lượng dòng có giá trị hợp lệ (không bị trống).\n",
        "    Phân tích: Bạn có thể thấy cột Price chỉ có 908 giá trị, trong khi các cột khác có 921.\n",
        "    Điều này cho thấy có một vài dòng bị thiếu dữ liệu về giá nhà.\n",
        "mean (Giá trị trung bình): Giá trị trung bình cộng của cột đó.\n",
        "    Phân tích: Giá nhà trung bình là khoảng 674,213. Diện tích trung bình là 101 m².\n",
        "std (Độ lệch chuẩn - Standard Deviation): Đo lường mức độ \"phân tán\" của dữ liệu so với giá trị trung bình. Số càng lớn, dữ liệu càng trải rộng.\n",
        "    Phân tích: Độ lệch chuẩn của Price rất lớn (693,893), gần bằng giá trị trung bình. Điều này cho thấy giá nhà có sự chênh lệch cực kỳ lớn.\n",
        "min (Giá trị nhỏ nhất): Giá trị thấp nhất trong cột.\n",
        "    Phân tích: Căn nhà rẻ nhất có giá 175,000. Căn nhỏ nhất có diện tích 21 m².\n",
        "25% (Tứ phân vị thứ nhất - Q1): 25% số nhà có giá thấp hơn hoặc bằng mức này.\n",
        "    Phân tích: 25% số nhà có giá dưới 350,000.\n",
        "50% (Tứ phân vị thứ hai - Q2 hoặc Median): Đây chính là giá trị trung vị (đường kẻ giữa trong biểu đồ hộp). 50% số nhà có giá thấp hơn mức này.\n",
        "    Phân tích: Giá nhà ở chính giữa là 485,000. Con số này thấp hơn nhiều so với giá trị trung bình (mean = 674,213), một lần nữa khẳng định rằng có những căn nhà siêu đắt đang \"kéo\" giá trị trung bình lên cao.\n",
        "75% (Tứ phân vị thứ ba - Q3): 75% số nhà có giá thấp hơn hoặc bằng mức này.\n",
        "    Phân tích: 75% số nhà có giá dưới 750,000.\n",
        "max (Giá trị lớn nhất): Giá trị cao nhất trong cột.\n",
        "    Phân tích: Căn nhà đắt nhất có giá lên tới 5,950,000. Căn rộng nhất là 623 m²."
      ]
    },
    {
      "cell_type": "markdown",
      "id": "HiLpWTbr_h8h",
      "metadata": {
        "id": "HiLpWTbr_h8h"
      },
      "source": [
        "##Bài toán 2: Thực hiện các nhiệm vụ trong bài toán 2 để làm quen với việc phân tích hai biến với các hàm\n",
        "trong thư viện scikit-learn."
      ]
    },
    {
      "cell_type": "markdown",
      "id": "_4jxZOE__sJs",
      "metadata": {
        "id": "_4jxZOE__sJs"
      },
      "source": [
        "###Nhiệm vụ 1: phân tích dữ liệu hai biến trên dữ liệu về chim cánh cụt. Dữ liệu lấy tại\n",
        "https://www.kaggle.com/datasets/parulpandey/palmer-archipelago-antarctica-penguin-data"
      ]
    },
    {
      "cell_type": "markdown",
      "id": "_2iTGDcI_zPL",
      "metadata": {
        "id": "_2iTGDcI_zPL"
      },
      "source": [
        "###**1.1.** Import thư viện và chuẩn bị dữ liệu phân tích"
      ]
    },
    {
      "cell_type": "code",
      "execution_count": null,
      "id": "78163849",
      "metadata": {
        "id": "78163849"
      },
      "outputs": [],
      "source": [
        "import pandas as pd\n",
        "import matplotlib.pyplot as plt\n",
        "import seaborn as sns\n",
        "penguins_data = pd.read_csv(\"penguins_size.csv\")\n",
        "penguins_data = penguins_data[['species','culmen_length_mm','body_mass_g']]"
      ]
    },
    {
      "cell_type": "markdown",
      "id": "iPoKF7l9_9TK",
      "metadata": {
        "id": "iPoKF7l9_9TK"
      },
      "source": [
        "###1.2. Phân tích dữ liệu 2 biến dựa vào phương pháp scatterplot"
      ]
    },
    {
      "cell_type": "code",
      "execution_count": null,
      "id": "aa404383",
      "metadata": {
        "id": "aa404383",
        "outputId": "6d432032-d540-4a17-cd80-acdde7d3fda2"
      },
      "outputs": [],
      "source": [
        "# case 1: basic\n",
        "sns.scatterplot(data = penguins_data, x= penguins_data[\"culmen_length_mm\"],\n",
        "y= penguins_data['body_mass_g'])\n",
        "# case 2: advanced\n",
        "plt.figure(figsize= (12,6))\n",
        "# biểu đồ phân tán\n",
        "ax = sns.scatterplot(data = penguins_data,\n",
        "x= penguins_data[\"culmen_length_mm\"],\n",
        "y= penguins_data['body_mass_g'])\n",
        "ax.set_title('Bivariate analysis of Culmen Length and body mass', fontsize=20)"
      ]
    },
    {
      "cell_type": "code",
      "execution_count": null,
      "id": "7c816616",
      "metadata": {
        "id": "7c816616"
      },
      "outputs": [],
      "source": [
        "Nhận xét: Bạn có thể thấy rõ ràng các điểm dữ liệu có xu hướng đi lên từ trái sang phải.\n",
        "Ý nghĩa: Điều này cho thấy một mối tương quan dương mạnh mẽ. Nghĩa là, khi giá trị trên trục X (độ dài mỏ) tăng, giá trị trên trục Y (cân nặng) cũng có xu hướng tăng theo.\n",
        "Kết luận: Những con chim cánh cụt có mỏ dài hơn thường có cân nặng lớn hơn.\n",
        "    1.Sự Khác Biệt Giữa Các Loài: Đây là nguyên nhân chính. Biểu đồ đang thể hiện dữ liệu\n",
        "    của nhiều loài chim cánh cụt khác nhau. Mỗi loài có một kích thước trung bình riêng\n",
        "    (ví dụ, loài Gentoo to hơn loài Adelie). Khi gộp chung lại, những con chim của loài lớn hơn sẽ tự nhiên\n",
        "     có cả mỏ dài và cân nặng lớn, tạo ra xu hướng đi lên trên biểu đồ.\n",
        "\n",
        "    2. Kích Thước Tổng Thể: Ngay cả trong cùng một loài, một chiếc mỏ dài\n",
        "     thường là dấu hiệu của một con chim có khung xương và cơ thể to lớn hơn. Chim to hơn thì nặng hơn,\n",
        "     tương tự như người cao lớn thường nặng cân hơn người nhỏ bé\n",
        "\n"
      ]
    },
    {
      "cell_type": "code",
      "execution_count": null,
      "id": "1add4073",
      "metadata": {
        "id": "1add4073"
      },
      "outputs": [],
      "source": [
        "Kết luận cốt lõi: Mỏ dài không phải là nguyên nhân gây ra cân nặng lớn.\n",
        " Thay vào đó, cả hai đều là hệ quả của một yếu tố chung: kích thước tổng thể của con chim,\n",
        " vốn được quyết định bởi loài, tuổi tác và giới tính của nó."
      ]
    },
    {
      "cell_type": "markdown",
      "id": "VaNUG6FYAEX2",
      "metadata": {
        "id": "VaNUG6FYAEX2"
      },
      "source": [
        "###1.3. Phân tích 2 biến dựa vào bảng crosstab/two-way"
      ]
    },
    {
      "cell_type": "code",
      "execution_count": null,
      "id": "41feef64",
      "metadata": {
        "id": "41feef64",
        "outputId": "4c894971-347e-4b15-d41c-bbf596af9251"
      },
      "outputs": [],
      "source": [
        "import pandas as pd\n",
        "import seaborn as sns\n",
        "\n",
        "# 1. Tải bộ dữ liệu chim cánh cụt có sẵn\n",
        "penguins_data = sns.load_dataset(\"penguins\")\n",
        "\n",
        "# 2. Bây giờ code của bạn sẽ chạy được\n",
        "# Lệnh này tạo ra một bảng tần suất (cross-tabulation)\n",
        "# để đếm số lượng chim đực (Male) và cái (Female) trong mỗi loài (species)\n",
        "crosstab_result = pd.crosstab(index=penguins_data['species'], columns=penguins_data['sex'])\n",
        "\n",
        "# 3. In kết quả ra để xem\n",
        "print(\"Bảng thống kê số lượng chim theo Loài và Giới tính:\")\n",
        "print(crosstab_result)\n"
      ]
    },
    {
      "cell_type": "code",
      "execution_count": null,
      "id": "d5aab2af",
      "metadata": {
        "id": "d5aab2af"
      },
      "outputs": [],
      "source": [
        "Hàng (Rows): Mỗi hàng đại diện cho một loài (species) chim cánh cụt khác nhau: Adelie, Chinstrap, và Gentoo.\n",
        "Cột (Columns): Mỗi cột đại diện cho một giới tính (sex) khác nhau: Female (con cái) và Male (con đực).\n",
        "Giá trị bên trong: Mỗi con số là một số đếm. Nó cho bạn biết có bao nhiêu con chim cánh cụt thỏa mãn cả hai tiêu chí của hàng và cột.\n",
        "Ví dụ: Con số ở hàng Adelie và cột Female là 73. Điều này có nghĩa là có 73 con chim cánh cụt Adelie mái trong bộ dữ liệu."
      ]
    },
    {
      "cell_type": "code",
      "execution_count": null,
      "id": "6e399039",
      "metadata": {
        "id": "6e399039"
      },
      "outputs": [],
      "source": [
        "Sự cân bằng giới tính ở loài Adelie: Có 73 con cái và 73 con đực. Tỷ lệ giới tính hoàn toàn cân bằng (1:1).\n",
        "Sự cân bằng giới tính ở loài Chinstrap: Có 34 con cái và 34 con đực. Loài này cũng có tỷ lệ giới tính hoàn toàn cân bằng.\n",
        "Sự cân bằng giới tính ở loài Gentoo: Có 58 con cái và 61 con đực.\n",
        "Tỷ lệ này rất gần với mức cân bằng, chỉ có một sự chênh lệch rất nhỏ về số lượng con đực."
      ]
    },
    {
      "cell_type": "markdown",
      "id": "xuOJQceLAJAS",
      "metadata": {
        "id": "xuOJQceLAJAS"
      },
      "source": [
        "###1.4. Phân tích 2 biến sử dụng pairplot"
      ]
    },
    {
      "cell_type": "code",
      "execution_count": null,
      "id": "aad0760b",
      "metadata": {
        "id": "aad0760b",
        "outputId": "c3c9c99e-dc14-4baa-cbe2-a8f16dc48dbf"
      },
      "outputs": [],
      "source": [
        "import seaborn as sns\n",
        "sns.pairplot( data = penguins_data)"
      ]
    },
    {
      "cell_type": "code",
      "execution_count": null,
      "id": "de66d711",
      "metadata": {
        "id": "de66d711"
      },
      "outputs": [],
      "source": [
        "Mục đích chính của pairplot là:\n",
        "    Xem mối quan hệ hai biến (Bivariate Analysis): Nó vẽ các biểu đồ phân tán cho mọi cặp cột số.\n",
        "    Điều này giúp bạn trả lời các câu hỏi như: \"Liệu diện tích (Area) tăng thì giá (Price) có tăng theo không?\".\n",
        "    Xem phân phối của từng biến (Univariate Analysis): Trên đường chéo của ma trận, nó vẽ biểu đồ phân phối (thường là histogram) cho từng cột. Điều này giúp bạn thấy được sự phân bố của riêng từng biến (ví dụ: giá nhà tập trung ở khoảng nào).\n",
        "    Phát hiện các mẫu hình và cụm dữ liệu: Giúp bạn nhanh chóng phát hiện các xu hướng, các cụm dữ liệu (clusters), và các mối tương quan tiềm năng giữa các biến.\n",
        "    Nói một cách đơn giản, pairplot là một công cụ \"chẩn đoán tổng quát\" cực nhanh, cho bạn một bức tranh toàn cảnh về dữ liệu của mình"
      ]
    }
  ],
  "metadata": {
    "colab": {
      "provenance": [],
      "toc_visible": true
    },
    "kernelspec": {
      "display_name": "base",
      "language": "python",
      "name": "python3"
    },
    "language_info": {
      "codemirror_mode": {
        "name": "ipython",
        "version": 3
      },
      "file_extension": ".py",
      "mimetype": "text/x-python",
      "name": "python",
      "nbconvert_exporter": "python",
      "pygments_lexer": "ipython3",
      "version": "3.13.5"
    }
  },
  "nbformat": 4,
  "nbformat_minor": 5
}
