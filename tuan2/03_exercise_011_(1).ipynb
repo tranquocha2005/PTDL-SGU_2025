{
  "cells": [
    {
      "cell_type": "markdown",
      "id": "2d158c9e-12a4-4b5a-b703-0aea2ff00d02",
      "metadata": {
        "id": "2d158c9e-12a4-4b5a-b703-0aea2ff00d02"
      },
      "source": [
        "## 1. Nhập/xuất, biểu thức tính toán"
      ]
    },
    {
      "cell_type": "markdown",
      "id": "3074dd2a-18b9-44b1-8019-faa237e4e8dd",
      "metadata": {
        "id": "3074dd2a-18b9-44b1-8019-faa237e4e8dd"
      },
      "source": [
        "### Bài 1. Tính giá trị hàm số\n",
        "**Yêu cầu**: Hãy viết chương trình nhập vào số thực x và tính giá trị biểu thức:\n",
        "$$\n",
        "    f\\left(x\\right) = x + \\frac{x^5}{5!} + \\frac{\\sqrt{|x|}}{x^{3/2}}\n",
        "$$\n",
        "> Moi ban nhap vao gia tri cua bien so x: **2.3** <br/>\n",
        "> Gia tri cua ham so f(**2.3**) = **3.27**."
      ]
    },
    {
      "cell_type": "code",
      "execution_count": 1,
      "id": "66e97cd7-47a3-4011-8912-27ef003c4479",
      "metadata": {
        "colab": {
          "base_uri": "https://localhost:8080/"
        },
        "id": "66e97cd7-47a3-4011-8912-27ef003c4479",
        "outputId": "514d19ca-aed0-4644-90cb-37f4428d99cc"
      },
      "outputs": [
        {
          "output_type": "stream",
          "name": "stdout",
          "text": [
            "Moi ban nhap vao gia tri cua bien so x: 5\n",
            "Gia tri cua ham so f(5.0) =  31.24.\n"
          ]
        }
      ],
      "source": [
        "# Khai báo thư viện\n",
        "import math\n",
        "\n",
        "# Nhập dữ liệu\n",
        "x   = float(input('Moi ban nhap vao gia tri cua bien so x: '))\n",
        "# Xử lý\n",
        "\"\"\" CÁC BẠN LÀM BÀI Ở ĐÂY \"\"\"\n",
        "# ...\n",
        "# Tính giá trị của hàm số f(x)\n",
        "if x != 0:\n",
        "    f_x = x + (x**5 / math.factorial(5)) + (math.sqrt(abs(x)) / (x**(3/2)))\n",
        "else:\n",
        "    f_x = x + (x**5 / math.factorial(5)) # Handle the case where x is 0 to avoid division by zero\n",
        "\n",
        "# Xuất dữ liệu\n",
        "print(f'Gia tri cua ham so f({x}) = {f_x: .2f}.')"
      ]
    },
    {
      "cell_type": "markdown",
      "id": "239686a9-b07b-49cf-865f-848481810cf1",
      "metadata": {
        "tags": [],
        "id": "239686a9-b07b-49cf-865f-848481810cf1"
      },
      "source": [
        "### Bài 2. Đổi sang giờ phút giây\n",
        "Một thiết bị hoạt động được t giây. Hãy viết chương trình chuyển số giây đó dưới dạng số giờ, số phút và số giây.\n",
        ">Nhap vao tong so giay: **4810** <br/>\n",
        ">**4810** giay co dang **1:20:10**"
      ]
    },
    {
      "cell_type": "code",
      "execution_count": 2,
      "id": "ad9c7cc5-a62b-42aa-b19b-4383dc118098",
      "metadata": {
        "colab": {
          "base_uri": "https://localhost:8080/"
        },
        "id": "ad9c7cc5-a62b-42aa-b19b-4383dc118098",
        "outputId": "78b3f7fb-df52-40e8-a8ce-cea4514a0472"
      },
      "outputs": [
        {
          "output_type": "stream",
          "name": "stdout",
          "text": [
            "Nhap vao tong so giay: 1000\n",
            "1000 giay co dang 0:16:40\n"
          ]
        }
      ],
      "source": [
        "# Nhập dữ liệu\n",
        "t  = int(input('Nhap vao tong so giay: '))\n",
        "\n",
        "# Xử lý\n",
        "\"\"\" CÁC BẠN LÀM BÀI Ở ĐÂY \"\"\"\n",
        "# ...\n",
        "hh = t // 3600\n",
        "mm = (t % 3600) // 60\n",
        "ss = t % 60\n",
        "\n",
        "# Xuất dữ liệu\n",
        "print(f'{t} giay co dang {hh}:{mm}:{ss}')"
      ]
    },
    {
      "cell_type": "markdown",
      "id": "17d60c56-c83c-4126-8003-e2ccba7b52ce",
      "metadata": {
        "id": "17d60c56-c83c-4126-8003-e2ccba7b52ce"
      },
      "source": [
        "## 2. Cấu trúc lựa chọn"
      ]
    },
    {
      "cell_type": "markdown",
      "id": "76774c9e-de62-4c88-817d-b1c4928dc12d",
      "metadata": {
        "id": "76774c9e-de62-4c88-817d-b1c4928dc12d"
      },
      "source": [
        "### Bài 3. Giải phuơng trình bậc 1\n",
        "Nhập 2 số thực $a$, $b$. Tìm nghiệm của phương trình bậc 1 $ax + b = 0$.\n",
        ">Moi ban nhap he so a: **1** <br/>\n",
        ">Moi ban nhap he so b: **5** <br/>\n",
        ">Phuong trinh **1x + 5 = 0** co **1** nghiem x = **-5.00**."
      ]
    },
    {
      "cell_type": "code",
      "execution_count": 3,
      "id": "073e5194-32f7-4e30-af77-f8173f70da26",
      "metadata": {
        "colab": {
          "base_uri": "https://localhost:8080/"
        },
        "id": "073e5194-32f7-4e30-af77-f8173f70da26",
        "outputId": "181db5a5-0585-492d-c279-fb1b3a725be0"
      },
      "outputs": [
        {
          "output_type": "stream",
          "name": "stdout",
          "text": [
            "Moi ban nhap he so a: 4\n",
            "Moi ban nhap he so b: 2\n",
            "Phuong trinh 4x + 2 = 0 co 1 nghiem x = -0.50.\n"
          ]
        }
      ],
      "source": [
        "# Nhập dữ liệu\n",
        "a  = int(input('Moi ban nhap he so a: '))\n",
        "b  = int(input('Moi ban nhap he so b: '))\n",
        "if a == 0:\n",
        "  if b == 0:\n",
        "    flag = -1 # Vô số nghiệm\n",
        "  else:\n",
        "    flag = 0 # Vô nghiệm\n",
        "else:\n",
        "  flag = 1 # Có 1 nghiệm\n",
        "  x = -b / a\n",
        "\n",
        "# Xử lý\n",
        "\"\"\" CÁC BẠN LÀM BÀI Ở ĐÂY \"\"\"\n",
        "# ...\n",
        "\n",
        "# Xuất dữ liệu\n",
        "s = f'Phuong trinh {a}x + {b} = 0'\n",
        "if flag == -1:\n",
        "    print(f'{s} vo so nghiem.')\n",
        "elif flag == 0:\n",
        "    print(f'{s} vo nghiem.')\n",
        "else:\n",
        "    print(f'{s} co 1 nghiem x = {x: .2f}.')\n",
        "# if"
      ]
    },
    {
      "cell_type": "markdown",
      "id": "a865ace8-924e-47cc-8820-8c417d88b6ae",
      "metadata": {
        "id": "a865ace8-924e-47cc-8820-8c417d88b6ae"
      },
      "source": [
        "### Bài 4. Chuyển ký số sang số\n",
        "Nhập một chuỗi s là chuỗi biểu diễn ký tự số trong tiếng Anh gồm {zero, one, two, three, four, five, six, seven, eight, nine}. Hãy kiểm tra chuỗi nhập có hợp lệ không? Nếu hợp lệ thì in ra ký số của chuỗi đó và chuỗi ký số bên tiếng việt tương ứng.\n",
        "> Moi ban nhap chuoi ky so s: One <br/>\n",
        "> Chuoi vua nhap hop le!\n",
        "> \"One\" bieu dien so cho \"1\" va ung voi tieng Viet \"mot\".\n",
        "\n",
        "> Moi ban nhap chuoi ky so s: hello <br/>\n",
        "> Chuoi vua nhap khong hop le!"
      ]
    },
    {
      "cell_type": "code",
      "execution_count": 5,
      "id": "05d9f65b-4e99-4b6f-aba8-c285290b2c5e",
      "metadata": {
        "colab": {
          "base_uri": "https://localhost:8080/"
        },
        "id": "05d9f65b-4e99-4b6f-aba8-c285290b2c5e",
        "outputId": "c078e0da-f2ac-49a8-cf1b-fa532ac01ad2"
      },
      "outputs": [
        {
          "output_type": "stream",
          "name": "stdout",
          "text": [
            "Moi ban nhap chuoi ky so s: one\n",
            "Chuoi vua nhap hop le!\n",
            "\"one\" bieu dien cho \"1\" va ung voi tieng Viet \"mot\"\n"
          ]
        }
      ],
      "source": [
        "s = input(\"Moi ban nhap chuoi ky so s: \")\n",
        "\n",
        "en  = [\"zero\", \"one\", \"two\", \"three\", \"four\", \"five\", \"six\", \"seven\", \"eight\", \"nine\"]\n",
        "vi  = [\"khong\", \"mot\", \"hai\", \"ba\", \"bon\", \"nam\", \"sau\", \"bay\", \"tam\", \"chin\"]\n",
        "num = [0, 1, 2, 3, 4, 5, 6, 7, 8, 9]\n",
        "\"\"\" CÁC BẠN LÀM BÀI Ở ĐÂY \"\"\"\n",
        "# ...\n",
        "s_lower = s.lower()\n",
        "if s_lower in en:\n",
        "    index = en.index(s_lower)\n",
        "    print(\"Chuoi vua nhap hop le!\")\n",
        "    print(f'\"{s}\" bieu dien cho \"{num[index]}\" va ung voi tieng Viet \"{vi[index]}\"')\n",
        "else:\n",
        "    print(\"Chuoi vua nhap khong hop le!\")"
      ]
    },
    {
      "cell_type": "markdown",
      "id": "35adaeca-5d98-44ee-8e80-bda70395f1a8",
      "metadata": {
        "id": "35adaeca-5d98-44ee-8e80-bda70395f1a8"
      },
      "source": [
        "## 3. Cấu trúc lặp"
      ]
    },
    {
      "cell_type": "markdown",
      "id": "6c087ac9-28da-4590-98f4-b1481da3582c",
      "metadata": {
        "id": "6c087ac9-28da-4590-98f4-b1481da3582c"
      },
      "source": [
        "### Bài 5. Tính tổng các số chẵn\n",
        "Nhập một số nguyên n. Hãy tính tổng các số chẵn từ 1 đến n.\n",
        "> Moi ban nhap so nguyen n: **100** <br>\n",
        "> Tong cac so chan tu 1 den **100** la **2550**."
      ]
    },
    {
      "cell_type": "code",
      "execution_count": 7,
      "id": "845506c4-f77f-4c2c-91b4-b34b33d6b2db",
      "metadata": {
        "colab": {
          "base_uri": "https://localhost:8080/",
          "height": 356
        },
        "id": "845506c4-f77f-4c2c-91b4-b34b33d6b2db",
        "outputId": "e5aa354a-0e32-46a7-c404-b4c0e141b9ca"
      },
      "outputs": [
        {
          "output_type": "error",
          "ename": "KeyboardInterrupt",
          "evalue": "Interrupted by user",
          "traceback": [
            "\u001b[0;31m---------------------------------------------------------------------------\u001b[0m",
            "\u001b[0;31mKeyboardInterrupt\u001b[0m                         Traceback (most recent call last)",
            "\u001b[0;32m/tmp/ipython-input-2724590673.py\u001b[0m in \u001b[0;36m<cell line: 0>\u001b[0;34m()\u001b[0m\n\u001b[1;32m      1\u001b[0m \u001b[0;31m# Nhập dữ liệu\u001b[0m\u001b[0;34m\u001b[0m\u001b[0;34m\u001b[0m\u001b[0m\n\u001b[0;32m----> 2\u001b[0;31m \u001b[0mn\u001b[0m   \u001b[0;34m=\u001b[0m \u001b[0mint\u001b[0m\u001b[0;34m(\u001b[0m\u001b[0minput\u001b[0m\u001b[0;34m(\u001b[0m\u001b[0;34m\"Moi ban nhap so nguyen n: \"\u001b[0m\u001b[0;34m)\u001b[0m\u001b[0;34m)\u001b[0m\u001b[0;34m\u001b[0m\u001b[0;34m\u001b[0m\u001b[0m\n\u001b[0m\u001b[1;32m      3\u001b[0m \u001b[0;34m\u001b[0m\u001b[0m\n\u001b[1;32m      4\u001b[0m \u001b[0;31m# Xuất dữ liệu\u001b[0m\u001b[0;34m\u001b[0m\u001b[0;34m\u001b[0m\u001b[0m\n\u001b[1;32m      5\u001b[0m \u001b[0ms\u001b[0m   \u001b[0;34m=\u001b[0m \u001b[0;36m0\u001b[0m\u001b[0;34m\u001b[0m\u001b[0;34m\u001b[0m\u001b[0m\n",
            "\u001b[0;32m/usr/local/lib/python3.12/dist-packages/ipykernel/kernelbase.py\u001b[0m in \u001b[0;36mraw_input\u001b[0;34m(self, prompt)\u001b[0m\n\u001b[1;32m   1175\u001b[0m                 \u001b[0;34m\"raw_input was called, but this frontend does not support input requests.\"\u001b[0m\u001b[0;34m\u001b[0m\u001b[0;34m\u001b[0m\u001b[0m\n\u001b[1;32m   1176\u001b[0m             )\n\u001b[0;32m-> 1177\u001b[0;31m         return self._input_request(\n\u001b[0m\u001b[1;32m   1178\u001b[0m             \u001b[0mstr\u001b[0m\u001b[0;34m(\u001b[0m\u001b[0mprompt\u001b[0m\u001b[0;34m)\u001b[0m\u001b[0;34m,\u001b[0m\u001b[0;34m\u001b[0m\u001b[0;34m\u001b[0m\u001b[0m\n\u001b[1;32m   1179\u001b[0m             \u001b[0mself\u001b[0m\u001b[0;34m.\u001b[0m\u001b[0m_parent_ident\u001b[0m\u001b[0;34m[\u001b[0m\u001b[0;34m\"shell\"\u001b[0m\u001b[0;34m]\u001b[0m\u001b[0;34m,\u001b[0m\u001b[0;34m\u001b[0m\u001b[0;34m\u001b[0m\u001b[0m\n",
            "\u001b[0;32m/usr/local/lib/python3.12/dist-packages/ipykernel/kernelbase.py\u001b[0m in \u001b[0;36m_input_request\u001b[0;34m(self, prompt, ident, parent, password)\u001b[0m\n\u001b[1;32m   1217\u001b[0m             \u001b[0;32mexcept\u001b[0m \u001b[0mKeyboardInterrupt\u001b[0m\u001b[0;34m:\u001b[0m\u001b[0;34m\u001b[0m\u001b[0;34m\u001b[0m\u001b[0m\n\u001b[1;32m   1218\u001b[0m                 \u001b[0;31m# re-raise KeyboardInterrupt, to truncate traceback\u001b[0m\u001b[0;34m\u001b[0m\u001b[0;34m\u001b[0m\u001b[0m\n\u001b[0;32m-> 1219\u001b[0;31m                 \u001b[0;32mraise\u001b[0m \u001b[0mKeyboardInterrupt\u001b[0m\u001b[0;34m(\u001b[0m\u001b[0;34m\"Interrupted by user\"\u001b[0m\u001b[0;34m)\u001b[0m \u001b[0;32mfrom\u001b[0m \u001b[0;32mNone\u001b[0m\u001b[0;34m\u001b[0m\u001b[0;34m\u001b[0m\u001b[0m\n\u001b[0m\u001b[1;32m   1220\u001b[0m             \u001b[0;32mexcept\u001b[0m \u001b[0mException\u001b[0m\u001b[0;34m:\u001b[0m\u001b[0;34m\u001b[0m\u001b[0;34m\u001b[0m\u001b[0m\n\u001b[1;32m   1221\u001b[0m                 \u001b[0mself\u001b[0m\u001b[0;34m.\u001b[0m\u001b[0mlog\u001b[0m\u001b[0;34m.\u001b[0m\u001b[0mwarning\u001b[0m\u001b[0;34m(\u001b[0m\u001b[0;34m\"Invalid Message:\"\u001b[0m\u001b[0;34m,\u001b[0m \u001b[0mexc_info\u001b[0m\u001b[0;34m=\u001b[0m\u001b[0;32mTrue\u001b[0m\u001b[0;34m)\u001b[0m\u001b[0;34m\u001b[0m\u001b[0;34m\u001b[0m\u001b[0m\n",
            "\u001b[0;31mKeyboardInterrupt\u001b[0m: Interrupted by user"
          ]
        }
      ],
      "source": [
        "# Nhập dữ liệu\n",
        "n   = int(input(\"Moi ban nhap so nguyen n: \"))\n",
        "\n",
        "# Xuất dữ liệu\n",
        "s   = 0\n",
        "\n",
        "for i in range(1, n+1):\n",
        "  if i%2 ==0:\n",
        "    s +=i\n",
        "\"\"\" CÁC BẠN LÀM BÀI Ở ĐÂY \"\"\"\n",
        "# ...\n",
        "\n",
        "\n",
        "\n",
        "print(f'Tong cac so chan tu 1 den {n} la {s}.')"
      ]
    },
    {
      "cell_type": "markdown",
      "id": "2ec9b4d3-6c99-46d5-9520-f01bbc73b844",
      "metadata": {
        "id": "2ec9b4d3-6c99-46d5-9520-f01bbc73b844"
      },
      "source": [
        "### Bài 6. Kiểm tra số nguyên tố\n",
        "\n",
        "Nhập vào một số nguyên dương n. Hãy kiểm tra xem n có phải là nguyên tố không?\n",
        "> Moi nhap nhap so nguyen n: **10** <br/>\n",
        "> **10** khong phai la so nguyen to.\n",
        "\n",
        "> Moi nhap nhap so nguyen n: **97** <br/>\n",
        "> **97** la so nguyen to.\n",
        "\n",
        "**Lưu ý**: n là số nguyên tố khi và chỉ khi không tồn tại số nguyên từ $2$ đến $\\sqrt(n)$ mà chia hết cho n."
      ]
    },
    {
      "cell_type": "code",
      "execution_count": null,
      "id": "c8ef7876-623d-4d8b-95be-87e26917b8d8",
      "metadata": {
        "id": "c8ef7876-623d-4d8b-95be-87e26917b8d8",
        "outputId": "39fd119b-77c3-4e09-c0da-b270b8058d97"
      },
      "outputs": [
        {
          "name": "stdout",
          "output_type": "stream",
          "text": [
            "Moi ban nhap so nguyen n:  97\n"
          ]
        },
        {
          "name": "stdout",
          "output_type": "stream",
          "text": [
            "97 la so nguyen to.\n"
          ]
        }
      ],
      "source": [
        "# Nhập dữ liệu\n",
        "n   = int(input(\"Moi ban nhap so nguyen n: \"))\n",
        "\n",
        "# Xử lý\n",
        "\"\"\" CÁC BẠN LÀM BÀI Ở ĐÂY \"\"\"\n",
        "# ...\n",
        "import math\n",
        "\n",
        "if n <= 1:\n",
        "    lant = False\n",
        "elif n == 2:\n",
        "    lant = True\n",
        "else:\n",
        "    lant = True\n",
        "    for i in range(2, int(math.sqrt(n)) + 1):\n",
        "        if n % i == 0:\n",
        "            lant = False\n",
        "            break\n",
        "\n",
        "# Xuất dữ liệu\n",
        "if lant == True:\n",
        "    print(f'{n} la so nguyen to.')\n",
        "else:\n",
        "    print(f'{n} khong la so nguyen to.')"
      ]
    },
    {
      "cell_type": "markdown",
      "id": "0c3feb44-c1e0-4666-8651-26ef140902dd",
      "metadata": {
        "id": "0c3feb44-c1e0-4666-8651-26ef140902dd"
      },
      "source": [
        "## 4. Xử lý ngoại lệ và hàm số"
      ]
    },
    {
      "cell_type": "code",
      "source": [],
      "metadata": {
        "id": "fVAz8MUUmwKE"
      },
      "id": "fVAz8MUUmwKE",
      "execution_count": null,
      "outputs": []
    },
    {
      "cell_type": "markdown",
      "id": "31eff98b-ff44-455c-bbe5-7d0d073ebe16",
      "metadata": {
        "id": "31eff98b-ff44-455c-bbe5-7d0d073ebe16"
      },
      "source": [
        "### Bài 7. Giải phương trình bậc 2\n",
        "Nhập 3 số thực a, b, c (có kiểm tra dữ liệu nhập số thực). Hãy xây dựng hàm giải phương trình bậc 2 $ax^2+bx+c=0$ và in kết quả giải ra màn hình.\n",
        "> Moi ban nhap he so a, b, c:  **a b c**<br/>\n",
        "> Ban nhap sai! Moi ban nhap lai!<br/>\n",
        "> Moi ban nhap he so a, b, c:  **1 a 3**<br/>\n",
        "> Ban nhap sai! Moi ban nhap lai!<br/>\n",
        "> Moi ban nhap he so a, b, c: **1 5 6**<br/>\n",
        "> Phuong trinh bac 2 **1x^2 + 5x + 6 = 0** co **2**  nghiem x1 = **-2.00**, x2 = **-3.00**."
      ]
    },
    {
      "cell_type": "code",
      "execution_count": null,
      "id": "2a05bbed-f93b-4aec-bb26-f784f78421e4",
      "metadata": {
        "id": "2a05bbed-f93b-4aec-bb26-f784f78421e4"
      },
      "outputs": [],
      "source": [
        "def NhapDuLieu():\n",
        "    \"\"\"\n",
        "    Input:\n",
        "        Ban phim = 1 5 6\n",
        "    Output:\n",
        "        (a, b, c) --> (1, 5, 6)\n",
        "    \"\"\"\n",
        "    \"\"\" CÁC BẠN LÀM BÀI Ở ĐÂY \"\"\"\n",
        "    # ...\n",
        "    while True:\n",
        "        try:\n",
        "            a, b, c = map(float, input('Moi ban nhap he so a, b, c: ').split())\n",
        "            return a, b, c\n",
        "        except ValueError:\n",
        "            print(\"Ban nhap sai! Moi ban nhap lai!\")\n",
        "\n",
        "# NhapDuLieu"
      ]
    },
    {
      "cell_type": "code",
      "execution_count": null,
      "id": "142a6409-22ab-48fe-bded-904f389d9bd7",
      "metadata": {
        "id": "142a6409-22ab-48fe-bded-904f389d9bd7"
      },
      "outputs": [],
      "source": [
        "# Kiểm tra hàm\n",
        "a, b, c = NhapDuLieu()"
      ]
    },
    {
      "cell_type": "code",
      "execution_count": 8,
      "id": "604c3a62-ccf1-446b-8455-b24f37d2008d",
      "metadata": {
        "id": "604c3a62-ccf1-446b-8455-b24f37d2008d"
      },
      "outputs": [],
      "source": [
        "def GiaiPhuongTrinhBac2(a, b, c):\n",
        "    \"\"\"\n",
        "    Input: a, b, c\n",
        "    Output:\n",
        "    + flag = -1 (VSN), 0 (VN), k (k nghiem)\n",
        "    + () --> flag = -1, 0\n",
        "    + (x) --> flag = 1\n",
        "    + (x1, x2) --> flag = 2\n",
        "    \"\"\"\n",
        "    import math\n",
        "    flag = None\n",
        "    x = ()\n",
        "\n",
        "    \"\"\" CÁC BẠN LÀM BÀI Ở ĐÂY \"\"\"\n",
        "    # ...\n",
        "    if a == 0:\n",
        "        if b == 0:\n",
        "            if c == 0:\n",
        "                flag = -1  # Vô số nghiệm\n",
        "            else:\n",
        "                flag = 0  # Vô nghiệm\n",
        "        else:\n",
        "            flag = 1  # Có 1 nghiệm\n",
        "            x = (-c / b,)\n",
        "    else:\n",
        "        delta = b**2 - 4*a*c\n",
        "        if delta < 0:\n",
        "            flag = 0  # Vô nghiệm\n",
        "        elif delta == 0:\n",
        "            flag = 1  # Có 1 nghiệm kép\n",
        "            x = (-b / (2*a),)\n",
        "        else:\n",
        "            flag = 2  # Có 2 nghiệm phân biệt\n",
        "            x1 = (-b - math.sqrt(delta)) / (2*a)\n",
        "            x2 = (-b + math.sqrt(delta)) / (2*a)\n",
        "            x = (x1, x2)\n",
        "\n",
        "    return flag, x\n",
        "# GiaiPhuongTrinhBac2"
      ]
    },
    {
      "cell_type": "code",
      "execution_count": null,
      "id": "026317a6-6f3a-4d67-a53c-9e8623aa7718",
      "metadata": {
        "id": "026317a6-6f3a-4d67-a53c-9e8623aa7718",
        "outputId": "d90a77b1-6cc7-4656-b5e5-88275b774a8d"
      },
      "outputs": [
        {
          "name": "stdout",
          "output_type": "stream",
          "text": [
            "a = 0\n",
            "So nghiem: -1, nghiem = ()\n",
            "So nghiem: 0, nghiem = ()\n",
            "So nghiem: 1, nghiem = (-1.2,)\n",
            "a <> 0\n",
            "So nghiem: 0, nghiem = ()\n",
            "So nghiem: 1, nghiem = -1.0\n",
            "So nghiem: 2, nghiem = (-3.0, -2.0)\n"
          ]
        }
      ],
      "source": [
        "print(\"a = 0\")\n",
        "flag, x = GiaiPhuongTrinhBac2(0, 0, 0)\n",
        "print(f'So nghiem: {flag}, nghiem = {x}')\n",
        "flag, x = GiaiPhuongTrinhBac2(0, 0, 5)\n",
        "print(f'So nghiem: {flag}, nghiem = {x}')\n",
        "flag, x = GiaiPhuongTrinhBac2(0, 5, 6)\n",
        "print(f'So nghiem: {flag}, nghiem = {x}')\n",
        "\n",
        "print(\"a <> 0\")\n",
        "flag, x = GiaiPhuongTrinhBac2(5, 1, 2)\n",
        "print(f'So nghiem: {flag}, nghiem = {x}')\n",
        "flag, x = GiaiPhuongTrinhBac2(1, 2, 1)\n",
        "print(f'So nghiem: {flag}, nghiem = {x}')\n",
        "flag, x = GiaiPhuongTrinhBac2(1, 5, 6)\n",
        "print(f'So nghiem: {flag}, nghiem = {x}')"
      ]
    },
    {
      "cell_type": "code",
      "execution_count": 10,
      "id": "2977bb76-9c3e-4395-acd9-9b53183e3a9c",
      "metadata": {
        "colab": {
          "base_uri": "https://localhost:8080/"
        },
        "id": "2977bb76-9c3e-4395-acd9-9b53183e3a9c",
        "outputId": "956c0d5b-aa65-4a21-bcc4-ad95dbac6ccc"
      },
      "outputs": [
        {
          "output_type": "stream",
          "name": "stdout",
          "text": [
            "Moi ban nhap he so a, b, c: 1\n",
            "Ban nhap sai! Moi ban nhap lai!\n",
            "Moi ban nhap he so a, b, c: 1, 2, 3\n",
            "Ban nhap sai! Moi ban nhap lai!\n",
            "Moi ban nhap he so a, b, c: 1 2 3\n",
            "Phuong trinh bac 2 1.0x^2 + 2.0x + 3.0 = 0 vo nghiem!\n"
          ]
        }
      ],
      "source": [
        "# Kết nối bài\n",
        "def NhapDuLieu():\n",
        "    \"\"\"\n",
        "    Input:\n",
        "        Ban phim = 1 5 6\n",
        "    Output:\n",
        "        (a, b, c) --> (1, 5, 6)\n",
        "    \"\"\"\n",
        "    \"\"\" CÁC BẠN LÀM BÀI Ở ĐÂY \"\"\"\n",
        "    # ...\n",
        "    while True:\n",
        "        try:\n",
        "            a, b, c = map(float, input('Moi ban nhap he so a, b, c: ').split())\n",
        "            return a, b, c\n",
        "        except ValueError:\n",
        "            print(\"Ban nhap sai! Moi ban nhap lai!\")\n",
        "\n",
        "# NhapDuLieu\n",
        "a, b, c = NhapDuLieu()\n",
        "# Gọi hàm giải\n",
        "flag, x = GiaiPhuongTrinhBac2(a, b, c)\n",
        "# Xuất dữ liệu\n",
        "s = f'Phuong trinh bac 2 {a}x^2 + {b}x + {c} = 0'\n",
        "if flag == -1:\n",
        "    print(f'{s} co vo so nghiem!')\n",
        "elif flag == 0:\n",
        "    print(f'{s} vo nghiem!')\n",
        "elif flag == 1:\n",
        "    print(f'{s} co 1 nghiem, x = {x[0]: .2f}!')\n",
        "elif flag == 2:\n",
        "    print(f'{s} co 2 nghiem, x1 = {x[0]: .2f}, x2 = {x[1]: .2f}!')\n",
        "# if"
      ]
    },
    {
      "cell_type": "markdown",
      "id": "218d3938-7f4e-4097-a412-08c165ef910e",
      "metadata": {
        "id": "218d3938-7f4e-4097-a412-08c165ef910e"
      },
      "source": [
        "## 5. Dữ liệu nâng cao (List, Tuple, Set, Dictionary)"
      ]
    },
    {
      "cell_type": "markdown",
      "id": "e65d22f7-3801-40c4-af55-502bf5f61fb7",
      "metadata": {
        "id": "e65d22f7-3801-40c4-af55-502bf5f61fb7"
      },
      "source": [
        "### Bài 8. Các thao tác xử lý mảng số\n",
        "\n",
        "Viết chương trình xây dựng các hàm sau cho List và kiểm tra tính đúng đắn của các hàm số:\n",
        "+ Nhập một mảng số từ bàn phím cách nhau bởi khoảng trắng. Xuất mảng ra màn hình. <br/>\n",
        "+ Sinh một mảng số ngẫu nhiên có n phần tử trong khoảng a, b.\n",
        "+ Tính tổng của mảng số, đếm các phần tử chẵn, lẻ trong mảng.\n",
        "+ Cho một mảng số, hãy trả về dãy chẳn, dãy lẻ.\n",
        "\n",
        "> a = NhapMang() <br/>\n",
        "> XuatMang(a) <br/>\n",
        "> b = SinhNgauNhien(10, -10, 10) <br/>\n",
        "> XuatMang(b) <br/>\n",
        "> tong, chan, le = TinhTongChanLe(b) <br/>\n",
        "> a_chan, a_le = TimChanLe(b) <br/>"
      ]
    },
    {
      "cell_type": "code",
      "execution_count": null,
      "id": "0198d726-ca73-4d42-ab0c-337a50228bb6",
      "metadata": {
        "id": "0198d726-ca73-4d42-ab0c-337a50228bb6"
      },
      "outputs": [],
      "source": [
        "def NhapMang():\n",
        "    \"\"\"\n",
        "    Input:\n",
        "        Ban phim = 1 4 1 2 3 4 1 2 3 3 1 2 3 4 10 2\n",
        "    Output:\n",
        "        a = [1, 4, 1, 2, 3, 4, 1, 2, 3, 3, 1, 2, 3, 4, 10, 2]\n",
        "    \"\"\"\n",
        "    \"\"\" CÁC BẠN LÀM BÀI Ở ĐÂY \"\"\"\n",
        "    input_str = input(\"moi nhap mang (cach nhau boi khoang trang): \")\n",
        "    a = list(map(int, input_str.split()))\n",
        "    return a\n",
        "\n",
        "    return a\n",
        "# NhapMang"
      ]
    },
    {
      "cell_type": "markdown",
      "source": [],
      "metadata": {
        "id": "MmMsmKAfAe5L"
      },
      "id": "MmMsmKAfAe5L"
    },
    {
      "cell_type": "code",
      "execution_count": 14,
      "id": "c3b4c530-34f8-445b-bf69-5864e08bdb97",
      "metadata": {
        "colab": {
          "base_uri": "https://localhost:8080/",
          "height": 158
        },
        "id": "c3b4c530-34f8-445b-bf69-5864e08bdb97",
        "outputId": "4ffacaa7-b013-462e-cc6c-fef98bc12333"
      },
      "outputs": [
        {
          "output_type": "error",
          "ename": "NameError",
          "evalue": "name 'NhapMang' is not defined",
          "traceback": [
            "\u001b[0;31m---------------------------------------------------------------------------\u001b[0m",
            "\u001b[0;31mNameError\u001b[0m                                 Traceback (most recent call last)",
            "\u001b[0;32m/tmp/ipython-input-2672011209.py\u001b[0m in \u001b[0;36m<cell line: 0>\u001b[0;34m()\u001b[0m\n\u001b[0;32m----> 1\u001b[0;31m \u001b[0ma\u001b[0m \u001b[0;34m=\u001b[0m \u001b[0mNhapMang\u001b[0m\u001b[0;34m(\u001b[0m\u001b[0;34m)\u001b[0m \u001b[0;31m# 1 4 1 2 3 4 1 2 3 3 1 2 3 4 10 2\u001b[0m\u001b[0;34m\u001b[0m\u001b[0;34m\u001b[0m\u001b[0m\n\u001b[0m\u001b[1;32m      2\u001b[0m \u001b[0mprint\u001b[0m\u001b[0;34m(\u001b[0m\u001b[0ma\u001b[0m\u001b[0;34m)\u001b[0m\u001b[0;34m\u001b[0m\u001b[0;34m\u001b[0m\u001b[0m\n",
            "\u001b[0;31mNameError\u001b[0m: name 'NhapMang' is not defined"
          ]
        }
      ],
      "source": [
        "a = NhapMang() # 1 4 1 2 3 4 1 2 3 3 1 2 3 4 10 2\n",
        "print(a)"
      ]
    },
    {
      "cell_type": "code",
      "execution_count": null,
      "id": "424c3606-f2b4-4000-b5b9-7237f96f4a34",
      "metadata": {
        "id": "424c3606-f2b4-4000-b5b9-7237f96f4a34"
      },
      "outputs": [],
      "source": [
        "def XuatMang(a):\n",
        "    \"\"\"\n",
        "    Input:\n",
        "        a = [1, 4, 1, 2, 3, 4, 1, 2, 3, 3, 1, 2, 3, 4, 10, 2]\n",
        "    Output:\n",
        "        In ra man hinh:\n",
        "            Mang co 16 phan tu: 1 4 1 2 3 4 1 2 3 3 1 2 3 4 10 2\n",
        "    \"\"\"\n",
        "    \"\"\" CÁC BẠN LÀM BÀI Ở ĐÂY \"\"\"\n",
        "    # ...\n",
        "    print(f'mang co {len(a)} phan tu ', end='' )\n",
        "    for item in a:\n",
        "        print(item, end=' ')\n",
        "    print()\n",
        "\n",
        "\n",
        "\n",
        "\n",
        "# XuatMang"
      ]
    },
    {
      "cell_type": "code",
      "execution_count": null,
      "id": "a1cdc488-a080-47cb-bd06-42b12b47f84e",
      "metadata": {
        "id": "a1cdc488-a080-47cb-bd06-42b12b47f84e",
        "outputId": "ca4b628a-f29c-4400-868b-bed29d1ef040"
      },
      "outputs": [
        {
          "name": "stdout",
          "output_type": "stream",
          "text": [
            "Mang co 16 phan tu: 1 4 1 2 3 4 1 2 3 3 1 2 3 4 10 2 \n"
          ]
        }
      ],
      "source": [
        "a = [1, 4, 1, 2, 3, 4, 1, 2, 3, 3, 1, 2, 3, 4, 10, 2]\n",
        "XuatMang(a)"
      ]
    },
    {
      "cell_type": "code",
      "execution_count": 11,
      "id": "c3b401bb-877e-4a2e-8940-81e79411c826",
      "metadata": {
        "id": "c3b401bb-877e-4a2e-8940-81e79411c826"
      },
      "outputs": [],
      "source": [
        "import random\n",
        "def SinhNgauNhien(n, vmin = -10, vmax = 10):\n",
        "    \"\"\"\n",
        "    Input:\n",
        "        n = 30, vmin = -10, vmax = 10\n",
        "    Output:\n",
        "        a = [-1, -4, -8, 6, 4, -5, -1, -4, -9, -5, -10, 0, -6, 2, 1, -9, -9, 10, -8, -9, -7, 9, 2, -4, -1, -6, 5, -6, 9, -8]\n",
        "    \"\"\"\n",
        "    a = []\n",
        "    \"\"\" CÁC BẠN LÀM BÀI Ở ĐÂY \"\"\"\n",
        "    # ...\n",
        "    for _ in range(n):\n",
        "        a.append(random.randint(vmin, vmax))\n",
        "\n",
        "    return a\n",
        "# SinhNgauNhien"
      ]
    },
    {
      "cell_type": "code",
      "execution_count": null,
      "id": "d1b76bc2-f9ae-4a7a-9dcb-36e80e96ebd5",
      "metadata": {
        "id": "d1b76bc2-f9ae-4a7a-9dcb-36e80e96ebd5",
        "outputId": "b64beae1-3433-456f-c952-9adadb315767"
      },
      "outputs": [
        {
          "name": "stdout",
          "output_type": "stream",
          "text": [
            "[0, 0, 9, 10, 4, -8, 9, -1, -2, 7, 7, -4, -4, -4, 10, 8, -3, -6, 0, -7, 10, 1, 4, -2, 3, -6, 9, -3, -8, -8]\n",
            "[5, 2, 7, 3, 0, 6, 5, 3, 0, 1, 10, 9, 7, 3, 4, 0, 4, 4, 6, 2, 8, 1, 10, 6, 7, 7, 6, 4, 4, 9]\n",
            "[-2, 1, -10, -8, -9, -2, -4, 1, 1, -5, -8, -1, -4, 0, -3, -7, -9, 1, -9, -1, -4, 0, -7, -4, -6, 1, -5, -6, -8, -10]\n"
          ]
        }
      ],
      "source": [
        "b = SinhNgauNhien(30, -10, 10)\n",
        "print(b)\n",
        "b = SinhNgauNhien(30, vmin = 0)\n",
        "print(b)\n",
        "b = SinhNgauNhien(30, vmax = 2)\n",
        "print(b)"
      ]
    },
    {
      "cell_type": "code",
      "execution_count": null,
      "id": "e710b533-d63d-4a08-a70f-e593f5ff3612",
      "metadata": {
        "id": "e710b533-d63d-4a08-a70f-e593f5ff3612"
      },
      "outputs": [],
      "source": [
        "def DemTongChanLe(a):\n",
        "    \"\"\"\n",
        "    Input: a[] = [1, 4, 2, 0, -1, -7, 3, -6, 4, 9, -5, 7, 7, -7, -10, 1, -10, 9, -4, -6, 10, -2, -10, -8, -3, 2, -7, -10, 6, 0]\n",
        "    Output: tong, sochan, sole\n",
        "    \"\"\"\n",
        "    tong = 0\n",
        "    sochan = 0\n",
        "    sole = 0\n",
        "\n",
        "    \"\"\" CÁC BẠN LÀM BÀI Ở ĐÂY \"\"\"\n",
        "    # ...\n",
        "    for num in a:\n",
        "        tong += num\n",
        "        if num % 2 == 0:\n",
        "            sochan += 1\n",
        "        else:\n",
        "            sole += 1\n",
        "\n",
        "    return tong, sochan, sole\n",
        "# DemTongChanLe"
      ]
    },
    {
      "cell_type": "code",
      "execution_count": null,
      "id": "44c8959b-84fa-4174-83b3-18fc02152a04",
      "metadata": {
        "id": "44c8959b-84fa-4174-83b3-18fc02152a04",
        "outputId": "d1fee4fd-2e1a-4bd0-8630-7c6c1035f914"
      },
      "outputs": [
        {
          "name": "stdout",
          "output_type": "stream",
          "text": [
            "(-31, 17, 13)\n",
            "(141, 17, 13)\n"
          ]
        }
      ],
      "source": [
        "a = [1, 4, 2, 0, -1, -7, 3, -6, 4, 9, -5, 7, 7, -7, -10, 1, -10, 9, -4, -6, 10, -2, -10, -8, -3, 2, -7, -10, 6, 0]\n",
        "print(DemTongChanLe(a))\n",
        "a = [9, 6, 5, 0, 8, 8, 1, 10, 0, 0, 1, 1, 2, 7, 1, 10, 9, 1, 10, 8, 2, 8, 4, 5, 4, 5, 5, 3, 6, 2]\n",
        "print(DemTongChanLe(a))"
      ]
    },
    {
      "cell_type": "code",
      "execution_count": null,
      "id": "2627b2c2-ab2c-4774-8932-5db03e813a20",
      "metadata": {
        "id": "2627b2c2-ab2c-4774-8932-5db03e813a20"
      },
      "outputs": [],
      "source": [
        "def DayChanLe(a): # Gia tri tra ve\n",
        "    \"\"\"\n",
        "    Input:\n",
        "        a = [1, 4, 2, 0, -1, -7, 3, -6, 4, 9, -5, 7, 7, -7, -10, 1, -10, 9, -4, -6, 10, -2, -10, -8, -3, 2, -7, -10, 6, 0]\n",
        "    Output: (achan, ale)\n",
        "        achan = [4, 2, 0, -6, 4, -10, -10, -4, -6, 10, -2, -10, -8, 2, -10, 6, 0]\n",
        "        ale = [1, -1, -7, 3, 9, -5, 7, 7, -7, 1, 9, -3, -7]\n",
        "    \"\"\"\n",
        "    achan = []\n",
        "    ale = []\n",
        "\n",
        "    \"\"\" CÁC BẠN LÀM BÀI Ở ĐÂY \"\"\"\n",
        "    # ...\n",
        "    for num in a:\n",
        "        if num % 2 == 0:\n",
        "            achan.append(num)\n",
        "        else:\n",
        "            ale.append(num)\n",
        "\n",
        "    return achan, ale\n",
        "# DayChanLe"
      ]
    },
    {
      "cell_type": "code",
      "execution_count": 13,
      "id": "a9d76464-34d9-4b35-9250-8f9ab9b06a88",
      "metadata": {
        "colab": {
          "base_uri": "https://localhost:8080/"
        },
        "id": "a9d76464-34d9-4b35-9250-8f9ab9b06a88",
        "outputId": "027c77e1-6318-4128-c014-994f803dda8a"
      },
      "outputs": [
        {
          "output_type": "stream",
          "name": "stdout",
          "text": [
            "DayChanLe:\n",
            "Chan = [4, 2, 0, -6, 4, -10, -10, -4, -6, 10, -2, -10, -8, 2, -10, 6, 0]\n",
            "Le = [1, -1, -7, 3, 9, -5, 7, 7, -7, 1, 9, -3, -7]\n",
            "\n"
          ]
        }
      ],
      "source": [
        "def DayChanLe(a): # Gia tri tra ve\n",
        "    \"\"\"\n",
        "    Input:\n",
        "        a = [1, 4, 2, 0, -1, -7, 3, -6, 4, 9, -5, 7, 7, -7, -10, 1, -10, 9, -4, -6, 10, -2, -10, -8, -3, 2, -7, -10, 6, 0]\n",
        "    Output: (achan, ale)\n",
        "        achan = [4, 2, 0, -6, 4, -10, -10, -4, -6, 10, -2, -10, -8, 2, -10, 6, 0]\n",
        "        ale = [1, -1, -7, 3, 9, -5, 7, 7, -7, 1, 9, -3, -7]\n",
        "    \"\"\"\n",
        "    achan = []\n",
        "    ale = []\n",
        "\n",
        "    \"\"\" CÁC BẠN LÀM BÀI Ở ĐÂY \"\"\"\n",
        "    # ...\n",
        "    for num in a:\n",
        "        if num % 2 == 0:\n",
        "            achan.append(num)\n",
        "        else:\n",
        "            ale.append(num)\n",
        "\n",
        "    return achan, ale\n",
        "# DayChanLe\n",
        "\n",
        "a = [1, 4, 2, 0, -1, -7, 3, -6, 4, 9, -5, 7, 7, -7, -10, 1, -10, 9, -4, -6, 10, -2, -10, -8, -3, 2, -7, -10, 6, 0]\n",
        "achan, ale = DayChanLe(a)\n",
        "print(f'DayChanLe:\\nChan = {achan}\\nLe = {ale}\\n')"
      ]
    },
    {
      "cell_type": "markdown",
      "id": "7c5fdb97-5b63-415f-84fc-1edd4fdce982",
      "metadata": {
        "id": "7c5fdb97-5b63-415f-84fc-1edd4fdce982"
      },
      "source": [
        "### Bài 9. Các thao tác trên tập hợp, từ điển\n",
        "\n",
        "Viết chương trình nhập vào một dãy ký tự a cách nhau bởi khoảng trắng. Hãy thực hiện:\n",
        "+ In các ký tự trong a không trùng nhau và được sắp theo thứ tự tăng dần\n",
        "+ Đếm số lần xuất hiện các ký tự trong dãy a\n"
      ]
    },
    {
      "cell_type": "code",
      "execution_count": 19,
      "id": "fe04c02c-1165-4cb1-a6f5-0c12ad9d1060",
      "metadata": {
        "id": "fe04c02c-1165-4cb1-a6f5-0c12ad9d1060"
      },
      "outputs": [],
      "source": [
        "def XuLyKhongTrung(a):\n",
        "    \"\"\"\n",
        "    Input:\n",
        "        a = ['A', 'G', 'C', 'A', 'C', 'F', 'F', 'T', 'H']\n",
        "    Output:\n",
        "        s = ['A', 'C', 'F', 'G', 'H', 'T']\n",
        "    \"\"\"\n",
        "    s = set([])\n",
        "    \"\"\" CÁC BẠN LÀM BÀI Ở ĐÂY \"\"\"\n",
        "    # ...\n",
        "    for char in a:\n",
        "        s.add(char)\n",
        "    return sorted(s)\n",
        "# XuLyKhongTrung"
      ]
    },
    {
      "cell_type": "code",
      "execution_count": 20,
      "id": "441638fc-6c33-4bf7-82a5-7e6dcfb400e2",
      "metadata": {
        "colab": {
          "base_uri": "https://localhost:8080/"
        },
        "id": "441638fc-6c33-4bf7-82a5-7e6dcfb400e2",
        "outputId": "d5d06c4b-6bc8-40f0-90a6-ce52e34ddb07"
      },
      "outputs": [
        {
          "output_type": "stream",
          "name": "stdout",
          "text": [
            "['A', 'C', 'F', 'G', 'H', 'T']\n"
          ]
        }
      ],
      "source": [
        "a = ['A', 'G', 'C', 'A', 'C', 'F', 'F', 'T', 'H']\n",
        "b = XuLyKhongTrung(a)\n",
        "print(b)"
      ]
    },
    {
      "cell_type": "code",
      "execution_count": 21,
      "id": "235695e6-a3de-4bfb-a432-6ab086836877",
      "metadata": {
        "colab": {
          "base_uri": "https://localhost:8080/"
        },
        "id": "235695e6-a3de-4bfb-a432-6ab086836877",
        "outputId": "4670ca02-edc9-4300-c1f4-12c311452336"
      },
      "outputs": [
        {
          "output_type": "stream",
          "name": "stdout",
          "text": [
            "{'A': 2, 'G': 1, 'C': 2, 'F': 2, 'T': 1, 'H': 1}\n"
          ]
        }
      ],
      "source": [
        "def DemSoLanXuatHien(a):\n",
        "    \"\"\"\n",
        "    Input:\n",
        "        a = ['A', 'G', 'C', 'A', 'C', 'F', 'F', 'T', 'H']\n",
        "    Output:\n",
        "        dem = {'A': 2, 'G': 1, 'C': 2, 'F': 2, 'T': 1, 'H': 1}\n",
        "    \"\"\"\n",
        "    dem = {} # (k, v): k (ky tu) v (so lan xuat hien)\n",
        "    \"\"\" CÁC BẠN LÀM BÀI Ở ĐÂY \"\"\"\n",
        "    # ...\n",
        "    for char in a:\n",
        "        dem[char] = dem.get(char, 0) + 1\n",
        "\n",
        "    return dem\n",
        "# DemSoLanXuatHien\n",
        "\n",
        "a = ['A', 'G', 'C', 'A', 'C', 'F', 'F', 'T', 'H']\n",
        "b = DemSoLanXuatHien(a)\n",
        "print(b)"
      ]
    },
    {
      "cell_type": "markdown",
      "id": "a9c840d7-09b9-47fe-8422-2131838da3a5",
      "metadata": {
        "id": "a9c840d7-09b9-47fe-8422-2131838da3a5"
      },
      "source": [
        "# Kết thúc"
      ]
    }
  ],
  "metadata": {
    "kernelspec": {
      "display_name": "Python 3",
      "language": "python",
      "name": "python3"
    },
    "language_info": {
      "codemirror_mode": {
        "name": "ipython",
        "version": 3
      },
      "file_extension": ".py",
      "mimetype": "text/x-python",
      "name": "python",
      "nbconvert_exporter": "python",
      "pygments_lexer": "ipython3",
      "version": "3.8.8"
    },
    "colab": {
      "provenance": [],
      "toc_visible": true
    }
  },
  "nbformat": 4,
  "nbformat_minor": 5
}